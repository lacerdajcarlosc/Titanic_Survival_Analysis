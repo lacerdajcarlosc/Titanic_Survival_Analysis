{
 "cells": [
  {
   "cell_type": "code",
   "execution_count": 1,
   "id": "1cc1873b-3236-4a50-8c0b-f54f09bc6d1b",
   "metadata": {},
   "outputs": [
    {
     "name": "stdout",
     "output_type": "stream",
     "text": [
      "🐍 Python version: 3.12.2\n"
     ]
    }
   ],
   "source": [
    "from platform import python_version\n",
    "print('🐍 Python version:', python_version())"
   ]
  },
  {
   "cell_type": "code",
   "execution_count": 2,
   "id": "02ae1003-5852-45da-8ccb-5bbb8ca55c16",
   "metadata": {},
   "outputs": [
    {
     "name": "stderr",
     "output_type": "stream",
     "text": [
      "/home/ti/anaconda3/lib/python3.12/site-packages/kaleido/__init__.py:14: UserWarning:\n",
      "\n",
      "\n",
      "\n",
      "Warning: You have Plotly version 6.0.0, which is not compatible with this version of Kaleido (1.0.0).\n",
      "\n",
      "This means that static image generation (e.g. `fig.write_image()`) will not work.\n",
      "\n",
      "Please upgrade Plotly to version 6.1.1 or greater, or downgrade Kaleido to version 0.2.1.\n",
      "\n",
      "\n"
     ]
    },
    {
     "data": {
      "text/html": [
       "        <script type=\"text/javascript\">\n",
       "        window.PlotlyConfig = {MathJaxConfig: 'local'};\n",
       "        if (window.MathJax && window.MathJax.Hub && window.MathJax.Hub.Config) {window.MathJax.Hub.Config({SVG: {font: \"STIX-Web\"}});}\n",
       "        </script>\n",
       "        <script type=\"module\">import \"https://cdn.plot.ly/plotly-3.0.0.min\"</script>\n",
       "        "
      ]
     },
     "metadata": {},
     "output_type": "display_data"
    }
   ],
   "source": [
    "# =========================================\n",
    "# 1. Importing libraries\n",
    "# =========================================\n",
    "import numpy as np\n",
    "import pandas as pd\n",
    "import io\n",
    "import requests\n",
    "import re\n",
    "import warnings\n",
    "import os\n",
    "import sklearn\n",
    "\n",
    "\n",
    "import plotly.express as px\n",
    "import plotly.graph_objects as go\n",
    "import plotly.io as pio\n",
    "pio.templates\n",
    "import plotly.offline as py\n",
    "py.init_notebook_mode(connected=True)\n",
    "\n",
    "import plotly.graph_objs as go\n",
    "import plotly.tools as tls\n",
    "\n",
    "import seaborn as sns\n",
    "from sklearn.ensemble import (RandomForestClassifier, AdaBoostClassifier, \n",
    "                              GradientBoostingClassifier, ExtraTreesClassifier)\n",
    "from sklearn.preprocessing import StandardScaler, MinMaxScaler, LabelBinarizer\n",
    "from sklearn.svm import SVC\n",
    "\n",
    "import matplotlib.pyplot as plt\n",
    "%matplotlib inline\n",
    "from matplotlib.ticker import StrMethodFormatter\n",
    "\n",
    "# Configurações de visualização\n",
    "plt.style.use('default')\n",
    "sns.set_theme(palette=\"husl\")\n",
    "plt.rcParams['figure.figsize'] = (10,6)\n",
    "plt.rcParams['font.size'] = 12\n"
   ]
  },
  {
   "cell_type": "code",
   "execution_count": 3,
   "id": "c8d5d626-4c79-4856-8056-8ed6a5897240",
   "metadata": {},
   "outputs": [
    {
     "data": {
      "text/html": [
       "<div>\n",
       "<style scoped>\n",
       "    .dataframe tbody tr th:only-of-type {\n",
       "        vertical-align: middle;\n",
       "    }\n",
       "\n",
       "    .dataframe tbody tr th {\n",
       "        vertical-align: top;\n",
       "    }\n",
       "\n",
       "    .dataframe thead th {\n",
       "        text-align: right;\n",
       "    }\n",
       "</style>\n",
       "<table border=\"1\" class=\"dataframe\">\n",
       "  <thead>\n",
       "    <tr style=\"text-align: right;\">\n",
       "      <th></th>\n",
       "      <th>PassengerId</th>\n",
       "      <th>Survived</th>\n",
       "      <th>Pclass</th>\n",
       "      <th>Name</th>\n",
       "      <th>Sex</th>\n",
       "      <th>Age</th>\n",
       "      <th>SibSp</th>\n",
       "      <th>Parch</th>\n",
       "      <th>Ticket</th>\n",
       "      <th>Fare</th>\n",
       "      <th>Cabin</th>\n",
       "      <th>Embarked</th>\n",
       "    </tr>\n",
       "  </thead>\n",
       "  <tbody>\n",
       "    <tr>\n",
       "      <th>0</th>\n",
       "      <td>892</td>\n",
       "      <td>0</td>\n",
       "      <td>3</td>\n",
       "      <td>Kelly, Mr. James</td>\n",
       "      <td>male</td>\n",
       "      <td>34.5</td>\n",
       "      <td>0</td>\n",
       "      <td>0</td>\n",
       "      <td>330911</td>\n",
       "      <td>7.8292</td>\n",
       "      <td>NaN</td>\n",
       "      <td>Q</td>\n",
       "    </tr>\n",
       "    <tr>\n",
       "      <th>1</th>\n",
       "      <td>893</td>\n",
       "      <td>1</td>\n",
       "      <td>3</td>\n",
       "      <td>Wilkes, Mrs. James (Ellen Needs)</td>\n",
       "      <td>female</td>\n",
       "      <td>47.0</td>\n",
       "      <td>1</td>\n",
       "      <td>0</td>\n",
       "      <td>363272</td>\n",
       "      <td>7.0000</td>\n",
       "      <td>NaN</td>\n",
       "      <td>S</td>\n",
       "    </tr>\n",
       "    <tr>\n",
       "      <th>2</th>\n",
       "      <td>894</td>\n",
       "      <td>0</td>\n",
       "      <td>2</td>\n",
       "      <td>Myles, Mr. Thomas Francis</td>\n",
       "      <td>male</td>\n",
       "      <td>62.0</td>\n",
       "      <td>0</td>\n",
       "      <td>0</td>\n",
       "      <td>240276</td>\n",
       "      <td>9.6875</td>\n",
       "      <td>NaN</td>\n",
       "      <td>Q</td>\n",
       "    </tr>\n",
       "  </tbody>\n",
       "</table>\n",
       "</div>"
      ],
      "text/plain": [
       "   PassengerId  Survived  Pclass                              Name     Sex  \\\n",
       "0          892         0       3                  Kelly, Mr. James    male   \n",
       "1          893         1       3  Wilkes, Mrs. James (Ellen Needs)  female   \n",
       "2          894         0       2         Myles, Mr. Thomas Francis    male   \n",
       "\n",
       "    Age  SibSp  Parch  Ticket    Fare Cabin Embarked  \n",
       "0  34.5      0      0  330911  7.8292   NaN        Q  \n",
       "1  47.0      1      0  363272  7.0000   NaN        S  \n",
       "2  62.0      0      0  240276  9.6875   NaN        Q  "
      ]
     },
     "execution_count": 3,
     "metadata": {},
     "output_type": "execute_result"
    }
   ],
   "source": [
    "# ======================================\n",
    "# 2. Data loading\n",
    "# ======================================\n",
    "df = pd.read_csv(\"tested.csv\")\n",
    "df.head(3)"
   ]
  },
  {
   "cell_type": "code",
   "execution_count": 4,
   "id": "2fce2230-04ce-442b-b6a0-bff03beee34a",
   "metadata": {},
   "outputs": [
    {
     "name": "stdout",
     "output_type": "stream",
     "text": [
      "<class 'pandas.core.frame.DataFrame'>\n",
      "RangeIndex: 418 entries, 0 to 417\n",
      "Data columns (total 12 columns):\n",
      " #   Column       Non-Null Count  Dtype  \n",
      "---  ------       --------------  -----  \n",
      " 0   PassengerId  418 non-null    int64  \n",
      " 1   Survived     418 non-null    int64  \n",
      " 2   Pclass       418 non-null    int64  \n",
      " 3   Name         418 non-null    object \n",
      " 4   Sex          418 non-null    object \n",
      " 5   Age          332 non-null    float64\n",
      " 6   SibSp        418 non-null    int64  \n",
      " 7   Parch        418 non-null    int64  \n",
      " 8   Ticket       418 non-null    object \n",
      " 9   Fare         417 non-null    float64\n",
      " 10  Cabin        91 non-null     object \n",
      " 11  Embarked     418 non-null    object \n",
      "dtypes: float64(2), int64(5), object(5)\n",
      "memory usage: 39.3+ KB\n",
      "None\n",
      "        PassengerId    Survived      Pclass              Name   Sex  \\\n",
      "count    418.000000  418.000000  418.000000               418   418   \n",
      "unique          NaN         NaN         NaN               418     2   \n",
      "top             NaN         NaN         NaN  Kelly, Mr. James  male   \n",
      "freq            NaN         NaN         NaN                 1   266   \n",
      "mean    1100.500000    0.363636    2.265550               NaN   NaN   \n",
      "std      120.810458    0.481622    0.841838               NaN   NaN   \n",
      "min      892.000000    0.000000    1.000000               NaN   NaN   \n",
      "25%      996.250000    0.000000    1.000000               NaN   NaN   \n",
      "50%     1100.500000    0.000000    3.000000               NaN   NaN   \n",
      "75%     1204.750000    1.000000    3.000000               NaN   NaN   \n",
      "max     1309.000000    1.000000    3.000000               NaN   NaN   \n",
      "\n",
      "               Age       SibSp       Parch    Ticket        Fare  \\\n",
      "count   332.000000  418.000000  418.000000       418  417.000000   \n",
      "unique         NaN         NaN         NaN       363         NaN   \n",
      "top            NaN         NaN         NaN  PC 17608         NaN   \n",
      "freq           NaN         NaN         NaN         5         NaN   \n",
      "mean     30.272590    0.447368    0.392344       NaN   35.627188   \n",
      "std      14.181209    0.896760    0.981429       NaN   55.907576   \n",
      "min       0.170000    0.000000    0.000000       NaN    0.000000   \n",
      "25%      21.000000    0.000000    0.000000       NaN    7.895800   \n",
      "50%      27.000000    0.000000    0.000000       NaN   14.454200   \n",
      "75%      39.000000    1.000000    0.000000       NaN   31.500000   \n",
      "max      76.000000    8.000000    9.000000       NaN  512.329200   \n",
      "\n",
      "                  Cabin Embarked  \n",
      "count                91      418  \n",
      "unique               76        3  \n",
      "top     B57 B59 B63 B66        S  \n",
      "freq                  3      270  \n",
      "mean                NaN      NaN  \n",
      "std                 NaN      NaN  \n",
      "min                 NaN      NaN  \n",
      "25%                 NaN      NaN  \n",
      "50%                 NaN      NaN  \n",
      "75%                 NaN      NaN  \n",
      "max                 NaN      NaN  \n"
     ]
    },
    {
     "data": {
      "image/png": "[encoded data removed]",
      "text/plain": [
       "<Figure size 1000x600 with 1 Axes>"
      ]
     },
     "metadata": {},
     "output_type": "display_data"
    }
   ],
   "source": [
    "# ======================================\n",
    "# 3. Initial Exploratory Analysis\n",
    "# ======================================\n",
    "print(df.info())\n",
    "print(df.describe(include=\"all\"))\n",
    "\n",
    "sns.countplot(x=\"Survived\", data=df)\n",
    "plt.title(\"Distribuicao de Sobreviventes\")\n",
    "plt.show()\n"
   ]
  },
  {
   "cell_type": "code",
   "execution_count": 5,
   "id": "ce8b2a4f-4243-4b41-9ed0-4f5bbcba38d0",
   "metadata": {},
   "outputs": [
    {
     "data": {
      "text/plain": [
       "PassengerId    418\n",
       "Survived         2\n",
       "Pclass           3\n",
       "Name           418\n",
       "Sex              2\n",
       "Age             79\n",
       "SibSp            7\n",
       "Parch            8\n",
       "Ticket         363\n",
       "Fare           169\n",
       "Cabin           76\n",
       "Embarked         3\n",
       "dtype: int64"
      ]
     },
     "execution_count": 5,
     "metadata": {},
     "output_type": "execute_result"
    }
   ],
   "source": [
    "df.nunique()"
   ]
  },
  {
   "cell_type": "code",
   "execution_count": 6,
   "id": "4ec33627-e459-4a02-b6c2-ba1f6806b9ee",
   "metadata": {},
   "outputs": [
    {
     "data": {
      "text/plain": [
       "PassengerId      0\n",
       "Survived         0\n",
       "Pclass           0\n",
       "Name             0\n",
       "Sex              0\n",
       "Age             86\n",
       "SibSp            0\n",
       "Parch            0\n",
       "Ticket           0\n",
       "Fare             1\n",
       "Cabin          327\n",
       "Embarked         0\n",
       "dtype: int64"
      ]
     },
     "execution_count": 6,
     "metadata": {},
     "output_type": "execute_result"
    }
   ],
   "source": [
    "df.isnull().sum()"
   ]
  },
  {
   "cell_type": "code",
   "execution_count": 7,
   "id": "1045c15f-5c90-4eb4-8216-4612a01f1e8f",
   "metadata": {},
   "outputs": [
    {
     "data": {
      "text/html": [
       "<div>\n",
       "<style scoped>\n",
       "    .dataframe tbody tr th:only-of-type {\n",
       "        vertical-align: middle;\n",
       "    }\n",
       "\n",
       "    .dataframe tbody tr th {\n",
       "        vertical-align: top;\n",
       "    }\n",
       "\n",
       "    .dataframe thead th {\n",
       "        text-align: right;\n",
       "    }\n",
       "</style>\n",
       "<table border=\"1\" class=\"dataframe\">\n",
       "  <thead>\n",
       "    <tr style=\"text-align: right;\">\n",
       "      <th></th>\n",
       "      <th>PassengerId</th>\n",
       "      <th>Survived</th>\n",
       "      <th>Pclass</th>\n",
       "      <th>Name</th>\n",
       "      <th>Sex</th>\n",
       "      <th>Age</th>\n",
       "      <th>SibSp</th>\n",
       "      <th>Parch</th>\n",
       "      <th>Ticket</th>\n",
       "      <th>Fare</th>\n",
       "      <th>Cabin</th>\n",
       "      <th>Embarked</th>\n",
       "    </tr>\n",
       "  </thead>\n",
       "  <tbody>\n",
       "    <tr>\n",
       "      <th>10</th>\n",
       "      <td>902</td>\n",
       "      <td>0</td>\n",
       "      <td>3</td>\n",
       "      <td>Ilieff, Mr. Ylio</td>\n",
       "      <td>male</td>\n",
       "      <td>NaN</td>\n",
       "      <td>0</td>\n",
       "      <td>0</td>\n",
       "      <td>349220</td>\n",
       "      <td>7.8958</td>\n",
       "      <td>NaN</td>\n",
       "      <td>S</td>\n",
       "    </tr>\n",
       "    <tr>\n",
       "      <th>22</th>\n",
       "      <td>914</td>\n",
       "      <td>1</td>\n",
       "      <td>1</td>\n",
       "      <td>Flegenheim, Mrs. Alfred (Antoinette)</td>\n",
       "      <td>female</td>\n",
       "      <td>NaN</td>\n",
       "      <td>0</td>\n",
       "      <td>0</td>\n",
       "      <td>PC 17598</td>\n",
       "      <td>31.6833</td>\n",
       "      <td>NaN</td>\n",
       "      <td>S</td>\n",
       "    </tr>\n",
       "    <tr>\n",
       "      <th>29</th>\n",
       "      <td>921</td>\n",
       "      <td>0</td>\n",
       "      <td>3</td>\n",
       "      <td>Samaan, Mr. Elias</td>\n",
       "      <td>male</td>\n",
       "      <td>NaN</td>\n",
       "      <td>2</td>\n",
       "      <td>0</td>\n",
       "      <td>2662</td>\n",
       "      <td>21.6792</td>\n",
       "      <td>NaN</td>\n",
       "      <td>C</td>\n",
       "    </tr>\n",
       "    <tr>\n",
       "      <th>33</th>\n",
       "      <td>925</td>\n",
       "      <td>1</td>\n",
       "      <td>3</td>\n",
       "      <td>Johnston, Mrs. Andrew G (Elizabeth Lily\" Watson)\"</td>\n",
       "      <td>female</td>\n",
       "      <td>NaN</td>\n",
       "      <td>1</td>\n",
       "      <td>2</td>\n",
       "      <td>W./C. 6607</td>\n",
       "      <td>23.4500</td>\n",
       "      <td>NaN</td>\n",
       "      <td>S</td>\n",
       "    </tr>\n",
       "    <tr>\n",
       "      <th>36</th>\n",
       "      <td>928</td>\n",
       "      <td>1</td>\n",
       "      <td>3</td>\n",
       "      <td>Roth, Miss. Sarah A</td>\n",
       "      <td>female</td>\n",
       "      <td>NaN</td>\n",
       "      <td>0</td>\n",
       "      <td>0</td>\n",
       "      <td>342712</td>\n",
       "      <td>8.0500</td>\n",
       "      <td>NaN</td>\n",
       "      <td>S</td>\n",
       "    </tr>\n",
       "    <tr>\n",
       "      <th>...</th>\n",
       "      <td>...</td>\n",
       "      <td>...</td>\n",
       "      <td>...</td>\n",
       "      <td>...</td>\n",
       "      <td>...</td>\n",
       "      <td>...</td>\n",
       "      <td>...</td>\n",
       "      <td>...</td>\n",
       "      <td>...</td>\n",
       "      <td>...</td>\n",
       "      <td>...</td>\n",
       "      <td>...</td>\n",
       "    </tr>\n",
       "    <tr>\n",
       "      <th>408</th>\n",
       "      <td>1300</td>\n",
       "      <td>1</td>\n",
       "      <td>3</td>\n",
       "      <td>Riordan, Miss. Johanna Hannah\"\"</td>\n",
       "      <td>female</td>\n",
       "      <td>NaN</td>\n",
       "      <td>0</td>\n",
       "      <td>0</td>\n",
       "      <td>334915</td>\n",
       "      <td>7.7208</td>\n",
       "      <td>NaN</td>\n",
       "      <td>Q</td>\n",
       "    </tr>\n",
       "    <tr>\n",
       "      <th>410</th>\n",
       "      <td>1302</td>\n",
       "      <td>1</td>\n",
       "      <td>3</td>\n",
       "      <td>Naughton, Miss. Hannah</td>\n",
       "      <td>female</td>\n",
       "      <td>NaN</td>\n",
       "      <td>0</td>\n",
       "      <td>0</td>\n",
       "      <td>365237</td>\n",
       "      <td>7.7500</td>\n",
       "      <td>NaN</td>\n",
       "      <td>Q</td>\n",
       "    </tr>\n",
       "    <tr>\n",
       "      <th>413</th>\n",
       "      <td>1305</td>\n",
       "      <td>0</td>\n",
       "      <td>3</td>\n",
       "      <td>Spector, Mr. Woolf</td>\n",
       "      <td>male</td>\n",
       "      <td>NaN</td>\n",
       "      <td>0</td>\n",
       "      <td>0</td>\n",
       "      <td>A.5. 3236</td>\n",
       "      <td>8.0500</td>\n",
       "      <td>NaN</td>\n",
       "      <td>S</td>\n",
       "    </tr>\n",
       "    <tr>\n",
       "      <th>416</th>\n",
       "      <td>1308</td>\n",
       "      <td>0</td>\n",
       "      <td>3</td>\n",
       "      <td>Ware, Mr. Frederick</td>\n",
       "      <td>male</td>\n",
       "      <td>NaN</td>\n",
       "      <td>0</td>\n",
       "      <td>0</td>\n",
       "      <td>359309</td>\n",
       "      <td>8.0500</td>\n",
       "      <td>NaN</td>\n",
       "      <td>S</td>\n",
       "    </tr>\n",
       "    <tr>\n",
       "      <th>417</th>\n",
       "      <td>1309</td>\n",
       "      <td>0</td>\n",
       "      <td>3</td>\n",
       "      <td>Peter, Master. Michael J</td>\n",
       "      <td>male</td>\n",
       "      <td>NaN</td>\n",
       "      <td>1</td>\n",
       "      <td>1</td>\n",
       "      <td>2668</td>\n",
       "      <td>22.3583</td>\n",
       "      <td>NaN</td>\n",
       "      <td>C</td>\n",
       "    </tr>\n",
       "  </tbody>\n",
       "</table>\n",
       "<p>86 rows × 12 columns</p>\n",
       "</div>"
      ],
      "text/plain": [
       "     PassengerId  Survived  Pclass  \\\n",
       "10           902         0       3   \n",
       "22           914         1       1   \n",
       "29           921         0       3   \n",
       "33           925         1       3   \n",
       "36           928         1       3   \n",
       "..           ...       ...     ...   \n",
       "408         1300         1       3   \n",
       "410         1302         1       3   \n",
       "413         1305         0       3   \n",
       "416         1308         0       3   \n",
       "417         1309         0       3   \n",
       "\n",
       "                                                  Name     Sex  Age  SibSp  \\\n",
       "10                                    Ilieff, Mr. Ylio    male  NaN      0   \n",
       "22                Flegenheim, Mrs. Alfred (Antoinette)  female  NaN      0   \n",
       "29                                   Samaan, Mr. Elias    male  NaN      2   \n",
       "33   Johnston, Mrs. Andrew G (Elizabeth Lily\" Watson)\"  female  NaN      1   \n",
       "36                                 Roth, Miss. Sarah A  female  NaN      0   \n",
       "..                                                 ...     ...  ...    ...   \n",
       "408                    Riordan, Miss. Johanna Hannah\"\"  female  NaN      0   \n",
       "410                             Naughton, Miss. Hannah  female  NaN      0   \n",
       "413                                 Spector, Mr. Woolf    male  NaN      0   \n",
       "416                                Ware, Mr. Frederick    male  NaN      0   \n",
       "417                           Peter, Master. Michael J    male  NaN      1   \n",
       "\n",
       "     Parch      Ticket     Fare Cabin Embarked  \n",
       "10       0      349220   7.8958   NaN        S  \n",
       "22       0    PC 17598  31.6833   NaN        S  \n",
       "29       0        2662  21.6792   NaN        C  \n",
       "33       2  W./C. 6607  23.4500   NaN        S  \n",
       "36       0      342712   8.0500   NaN        S  \n",
       "..     ...         ...      ...   ...      ...  \n",
       "408      0      334915   7.7208   NaN        Q  \n",
       "410      0      365237   7.7500   NaN        Q  \n",
       "413      0   A.5. 3236   8.0500   NaN        S  \n",
       "416      0      359309   8.0500   NaN        S  \n",
       "417      1        2668  22.3583   NaN        C  \n",
       "\n",
       "[86 rows x 12 columns]"
      ]
     },
     "execution_count": 7,
     "metadata": {},
     "output_type": "execute_result"
    }
   ],
   "source": [
    "df[df.Age.isnull()]"
   ]
  },
  {
   "cell_type": "code",
   "execution_count": 8,
   "id": "69b44cfd-6ad9-4002-9a24-c1f50b576039",
   "metadata": {},
   "outputs": [
    {
     "data": {
      "text/plain": [
       "(86, 12)"
      ]
     },
     "execution_count": 8,
     "metadata": {},
     "output_type": "execute_result"
    }
   ],
   "source": [
    "df[df.Age.isnull()].shape"
   ]
  },
  {
   "cell_type": "code",
   "execution_count": 9,
   "id": "ebcdee26-8eba-4c8a-a83e-fa87b76ca71f",
   "metadata": {},
   "outputs": [
    {
     "data": {
      "text/plain": [
       "count    332.000000\n",
       "mean      30.272590\n",
       "std       14.181209\n",
       "min        0.170000\n",
       "25%       21.000000\n",
       "50%       27.000000\n",
       "75%       39.000000\n",
       "max       76.000000\n",
       "Name: Age, dtype: float64"
      ]
     },
     "execution_count": 9,
     "metadata": {},
     "output_type": "execute_result"
    }
   ],
   "source": [
    "df.Age.describe()"
   ]
  },
  {
   "cell_type": "code",
   "execution_count": 10,
   "id": "437afe74-19a9-4925-a6a6-05f90d3e0c30",
   "metadata": {},
   "outputs": [
    {
     "data": {
      "text/plain": [
       "<Axes: >"
      ]
     },
     "execution_count": 10,
     "metadata": {},
     "output_type": "execute_result"
    }
   ],
   "source": [
    "df.Age.plot.box()"
   ]
  },
  {
   "cell_type": "code",
   "execution_count": 11,
   "id": "97fe92cd-1814-4b4f-9527-93be267f3de2",
   "metadata": {},
   "outputs": [
    {
     "data": {
      "text/plain": [
       "<Axes: ylabel='Frequency'>"
      ]
     },
     "execution_count": 11,
     "metadata": {},
     "output_type": "execute_result"
    }
   ],
   "source": [
    "df.Age.plot.hist()"
   ]
  },
  {
   "cell_type": "code",
   "execution_count": 12,
   "id": "66a1bce1-e07e-4c8c-a30c-594c0bb715b4",
   "metadata": {},
   "outputs": [
    {
     "data": {
      "text/plain": [
       "27.0"
      ]
     },
     "execution_count": 12,
     "metadata": {},
     "output_type": "execute_result"
    }
   ],
   "source": [
    "df.Age.median()"
   ]
  },
  {
   "cell_type": "code",
   "execution_count": 13,
   "id": "5c7411b9-9f14-4037-ae27-7b89ae8e2a4b",
   "metadata": {},
   "outputs": [
    {
     "data": {
      "text/plain": [
       "Pclass\n",
       "1    42.0\n",
       "2    26.5\n",
       "3    24.0\n",
       "Name: Age, dtype: float64"
      ]
     },
     "execution_count": 13,
     "metadata": {},
     "output_type": "execute_result"
    }
   ],
   "source": [
    "df.groupby('Pclass')['Age'].median()"
   ]
  },
  {
   "cell_type": "code",
   "execution_count": 14,
   "id": "c85f4a63-17bd-4828-904f-af650799f5fe",
   "metadata": {},
   "outputs": [
    {
     "data": {
      "text/plain": [
       "Pclass  Sex   \n",
       "1       female    41.0\n",
       "        male      42.0\n",
       "2       female    24.0\n",
       "        male      28.0\n",
       "3       female    22.0\n",
       "        male      24.0\n",
       "Name: Age, dtype: float64"
      ]
     },
     "execution_count": 14,
     "metadata": {},
     "output_type": "execute_result"
    }
   ],
   "source": [
    "df.groupby(['Pclass','Sex'])['Age'].median()"
   ]
  },
  {
   "cell_type": "code",
   "execution_count": 15,
   "id": "787a698d-7b4c-454d-bfd6-8584e690d793",
   "metadata": {},
   "outputs": [
    {
     "data": {
      "text/html": [
       "<div>\n",
       "<style scoped>\n",
       "    .dataframe tbody tr th:only-of-type {\n",
       "        vertical-align: middle;\n",
       "    }\n",
       "\n",
       "    .dataframe tbody tr th {\n",
       "        vertical-align: top;\n",
       "    }\n",
       "\n",
       "    .dataframe thead th {\n",
       "        text-align: right;\n",
       "    }\n",
       "</style>\n",
       "<table border=\"1\" class=\"dataframe\">\n",
       "  <thead>\n",
       "    <tr style=\"text-align: right;\">\n",
       "      <th></th>\n",
       "      <th>PassengerId</th>\n",
       "      <th>Survived</th>\n",
       "      <th>Pclass</th>\n",
       "      <th>Name</th>\n",
       "      <th>Sex</th>\n",
       "      <th>Age</th>\n",
       "      <th>SibSp</th>\n",
       "      <th>Parch</th>\n",
       "      <th>Ticket</th>\n",
       "      <th>Fare</th>\n",
       "      <th>Cabin</th>\n",
       "      <th>Embarked</th>\n",
       "    </tr>\n",
       "  </thead>\n",
       "  <tbody>\n",
       "    <tr>\n",
       "      <th>0</th>\n",
       "      <td>892</td>\n",
       "      <td>0</td>\n",
       "      <td>3</td>\n",
       "      <td>Kelly, Mr. James</td>\n",
       "      <td>male</td>\n",
       "      <td>34.5</td>\n",
       "      <td>0</td>\n",
       "      <td>0</td>\n",
       "      <td>330911</td>\n",
       "      <td>7.8292</td>\n",
       "      <td>NaN</td>\n",
       "      <td>Q</td>\n",
       "    </tr>\n",
       "    <tr>\n",
       "      <th>1</th>\n",
       "      <td>893</td>\n",
       "      <td>1</td>\n",
       "      <td>3</td>\n",
       "      <td>Wilkes, Mrs. James (Ellen Needs)</td>\n",
       "      <td>female</td>\n",
       "      <td>47.0</td>\n",
       "      <td>1</td>\n",
       "      <td>0</td>\n",
       "      <td>363272</td>\n",
       "      <td>7.0000</td>\n",
       "      <td>NaN</td>\n",
       "      <td>S</td>\n",
       "    </tr>\n",
       "    <tr>\n",
       "      <th>2</th>\n",
       "      <td>894</td>\n",
       "      <td>0</td>\n",
       "      <td>2</td>\n",
       "      <td>Myles, Mr. Thomas Francis</td>\n",
       "      <td>male</td>\n",
       "      <td>62.0</td>\n",
       "      <td>0</td>\n",
       "      <td>0</td>\n",
       "      <td>240276</td>\n",
       "      <td>9.6875</td>\n",
       "      <td>NaN</td>\n",
       "      <td>Q</td>\n",
       "    </tr>\n",
       "    <tr>\n",
       "      <th>3</th>\n",
       "      <td>895</td>\n",
       "      <td>0</td>\n",
       "      <td>3</td>\n",
       "      <td>Wirz, Mr. Albert</td>\n",
       "      <td>male</td>\n",
       "      <td>27.0</td>\n",
       "      <td>0</td>\n",
       "      <td>0</td>\n",
       "      <td>315154</td>\n",
       "      <td>8.6625</td>\n",
       "      <td>NaN</td>\n",
       "      <td>S</td>\n",
       "    </tr>\n",
       "    <tr>\n",
       "      <th>4</th>\n",
       "      <td>896</td>\n",
       "      <td>1</td>\n",
       "      <td>3</td>\n",
       "      <td>Hirvonen, Mrs. Alexander (Helga E Lindqvist)</td>\n",
       "      <td>female</td>\n",
       "      <td>22.0</td>\n",
       "      <td>1</td>\n",
       "      <td>1</td>\n",
       "      <td>3101298</td>\n",
       "      <td>12.2875</td>\n",
       "      <td>NaN</td>\n",
       "      <td>S</td>\n",
       "    </tr>\n",
       "  </tbody>\n",
       "</table>\n",
       "</div>"
      ],
      "text/plain": [
       "   PassengerId  Survived  Pclass  \\\n",
       "0          892         0       3   \n",
       "1          893         1       3   \n",
       "2          894         0       2   \n",
       "3          895         0       3   \n",
       "4          896         1       3   \n",
       "\n",
       "                                           Name     Sex   Age  SibSp  Parch  \\\n",
       "0                              Kelly, Mr. James    male  34.5      0      0   \n",
       "1              Wilkes, Mrs. James (Ellen Needs)  female  47.0      1      0   \n",
       "2                     Myles, Mr. Thomas Francis    male  62.0      0      0   \n",
       "3                              Wirz, Mr. Albert    male  27.0      0      0   \n",
       "4  Hirvonen, Mrs. Alexander (Helga E Lindqvist)  female  22.0      1      1   \n",
       "\n",
       "    Ticket     Fare Cabin Embarked  \n",
       "0   330911   7.8292   NaN        Q  \n",
       "1   363272   7.0000   NaN        S  \n",
       "2   240276   9.6875   NaN        Q  \n",
       "3   315154   8.6625   NaN        S  \n",
       "4  3101298  12.2875   NaN        S  "
      ]
     },
     "execution_count": 15,
     "metadata": {},
     "output_type": "execute_result"
    }
   ],
   "source": [
    "df['Age'] = df.Age.fillna( df.groupby(['Pclass','Sex'])['Age'].transform('median'))\n",
    "df.head()"
   ]
  },
  {
   "cell_type": "code",
   "execution_count": 16,
   "id": "05abb43d-a1af-4000-8e80-487c3c893e58",
   "metadata": {},
   "outputs": [
    {
     "name": "stdout",
     "output_type": "stream",
     "text": [
      "     PassengerId  Survived  Pclass                Name   Sex   Age  SibSp  \\\n",
      "152         1044         0       3  Storey, Mr. Thomas  male  60.5      0   \n",
      "\n",
      "     Parch Ticket  Fare Cabin Embarked  \n",
      "152      0   3701   NaN   NaN        S  \n"
     ]
    }
   ],
   "source": [
    "print(df[df['Fare'].isnull()])"
   ]
  },
  {
   "cell_type": "code",
   "execution_count": 17,
   "id": "199e2cc1-2e19-4571-82a6-7a50c2f718fa",
   "metadata": {},
   "outputs": [],
   "source": [
    "df['Fare'] = df['Fare'].fillna(df.groupby('Pclass')['Fare'].transform('median'))"
   ]
  },
  {
   "cell_type": "code",
   "execution_count": 18,
   "id": "90dc6d9d-84d9-43fa-97ee-c422d13609d6",
   "metadata": {},
   "outputs": [
    {
     "data": {
      "text/plain": [
       "<Axes: ylabel='Frequency'>"
      ]
     },
     "execution_count": 18,
     "metadata": {},
     "output_type": "execute_result"
    }
   ],
   "source": [
    "df.Fare.plot.box()"
   ]
  },
  {
   "cell_type": "code",
   "execution_count": 19,
   "id": "589a3a29-705a-4e18-848f-7e11d10bc33f",
   "metadata": {},
   "outputs": [
    {
     "data": {
      "text/html": [
       "<div>\n",
       "<style scoped>\n",
       "    .dataframe tbody tr th:only-of-type {\n",
       "        vertical-align: middle;\n",
       "    }\n",
       "\n",
       "    .dataframe tbody tr th {\n",
       "        vertical-align: top;\n",
       "    }\n",
       "\n",
       "    .dataframe thead th {\n",
       "        text-align: right;\n",
       "    }\n",
       "</style>\n",
       "<table border=\"1\" class=\"dataframe\">\n",
       "  <thead>\n",
       "    <tr style=\"text-align: right;\">\n",
       "      <th></th>\n",
       "      <th>PassengerId</th>\n",
       "      <th>Survived</th>\n",
       "      <th>Pclass</th>\n",
       "      <th>Name</th>\n",
       "      <th>Sex</th>\n",
       "      <th>Age</th>\n",
       "      <th>SibSp</th>\n",
       "      <th>Parch</th>\n",
       "      <th>Ticket</th>\n",
       "      <th>Fare</th>\n",
       "      <th>Cabin</th>\n",
       "      <th>Embarked</th>\n",
       "    </tr>\n",
       "  </thead>\n",
       "  <tbody>\n",
       "    <tr>\n",
       "      <th>343</th>\n",
       "      <td>1235</td>\n",
       "      <td>1</td>\n",
       "      <td>1</td>\n",
       "      <td>Cardeza, Mrs. James Warburton Martinez (Charlo...</td>\n",
       "      <td>female</td>\n",
       "      <td>58.0</td>\n",
       "      <td>0</td>\n",
       "      <td>1</td>\n",
       "      <td>PC 17755</td>\n",
       "      <td>512.3292</td>\n",
       "      <td>B51 B53 B55</td>\n",
       "      <td>C</td>\n",
       "    </tr>\n",
       "  </tbody>\n",
       "</table>\n",
       "</div>"
      ],
      "text/plain": [
       "     PassengerId  Survived  Pclass  \\\n",
       "343         1235         1       1   \n",
       "\n",
       "                                                  Name     Sex   Age  SibSp  \\\n",
       "343  Cardeza, Mrs. James Warburton Martinez (Charlo...  female  58.0      0   \n",
       "\n",
       "     Parch    Ticket      Fare        Cabin Embarked  \n",
       "343      1  PC 17755  512.3292  B51 B53 B55        C  "
      ]
     },
     "execution_count": 19,
     "metadata": {},
     "output_type": "execute_result"
    }
   ],
   "source": [
    "df[df.Fare == df.Fare.max()]"
   ]
  },
  {
   "cell_type": "code",
   "execution_count": 20,
   "id": "1be9b3b8-d626-4490-a0ff-d10f7ab15009",
   "metadata": {},
   "outputs": [
    {
     "data": {
      "text/html": [
       "<div>\n",
       "<style scoped>\n",
       "    .dataframe tbody tr th:only-of-type {\n",
       "        vertical-align: middle;\n",
       "    }\n",
       "\n",
       "    .dataframe tbody tr th {\n",
       "        vertical-align: top;\n",
       "    }\n",
       "\n",
       "    .dataframe thead th {\n",
       "        text-align: right;\n",
       "    }\n",
       "</style>\n",
       "<table border=\"1\" class=\"dataframe\">\n",
       "  <thead>\n",
       "    <tr style=\"text-align: right;\">\n",
       "      <th></th>\n",
       "      <th>PassengerId</th>\n",
       "      <th>Survived</th>\n",
       "      <th>Pclass</th>\n",
       "      <th>Name</th>\n",
       "      <th>Sex</th>\n",
       "      <th>Age</th>\n",
       "      <th>SibSp</th>\n",
       "      <th>Parch</th>\n",
       "      <th>Ticket</th>\n",
       "      <th>Fare</th>\n",
       "      <th>Cabin</th>\n",
       "      <th>Embarked</th>\n",
       "      <th>Has_Cabin</th>\n",
       "    </tr>\n",
       "  </thead>\n",
       "  <tbody>\n",
       "    <tr>\n",
       "      <th>0</th>\n",
       "      <td>892</td>\n",
       "      <td>0</td>\n",
       "      <td>3</td>\n",
       "      <td>Kelly, Mr. James</td>\n",
       "      <td>male</td>\n",
       "      <td>34.5</td>\n",
       "      <td>0</td>\n",
       "      <td>0</td>\n",
       "      <td>330911</td>\n",
       "      <td>7.8292</td>\n",
       "      <td>NaN</td>\n",
       "      <td>Q</td>\n",
       "      <td>0</td>\n",
       "    </tr>\n",
       "    <tr>\n",
       "      <th>1</th>\n",
       "      <td>893</td>\n",
       "      <td>1</td>\n",
       "      <td>3</td>\n",
       "      <td>Wilkes, Mrs. James (Ellen Needs)</td>\n",
       "      <td>female</td>\n",
       "      <td>47.0</td>\n",
       "      <td>1</td>\n",
       "      <td>0</td>\n",
       "      <td>363272</td>\n",
       "      <td>7.0000</td>\n",
       "      <td>NaN</td>\n",
       "      <td>S</td>\n",
       "      <td>0</td>\n",
       "    </tr>\n",
       "    <tr>\n",
       "      <th>2</th>\n",
       "      <td>894</td>\n",
       "      <td>0</td>\n",
       "      <td>2</td>\n",
       "      <td>Myles, Mr. Thomas Francis</td>\n",
       "      <td>male</td>\n",
       "      <td>62.0</td>\n",
       "      <td>0</td>\n",
       "      <td>0</td>\n",
       "      <td>240276</td>\n",
       "      <td>9.6875</td>\n",
       "      <td>NaN</td>\n",
       "      <td>Q</td>\n",
       "      <td>0</td>\n",
       "    </tr>\n",
       "  </tbody>\n",
       "</table>\n",
       "</div>"
      ],
      "text/plain": [
       "   PassengerId  Survived  Pclass                              Name     Sex  \\\n",
       "0          892         0       3                  Kelly, Mr. James    male   \n",
       "1          893         1       3  Wilkes, Mrs. James (Ellen Needs)  female   \n",
       "2          894         0       2         Myles, Mr. Thomas Francis    male   \n",
       "\n",
       "    Age  SibSp  Parch  Ticket    Fare Cabin Embarked  Has_Cabin  \n",
       "0  34.5      0      0  330911  7.8292   NaN        Q          0  \n",
       "1  47.0      1      0  363272  7.0000   NaN        S          0  \n",
       "2  62.0      0      0  240276  9.6875   NaN        Q          0  "
      ]
     },
     "execution_count": 20,
     "metadata": {},
     "output_type": "execute_result"
    }
   ],
   "source": [
    "df['Has_Cabin'] = df['Cabin'].notnull().astype(int)\n",
    "df.drop('Cabin', axis=1)\n",
    "df.head(3)"
   ]
  },
  {
   "cell_type": "code",
   "execution_count": 21,
   "id": "165fa5a3-0805-475e-932b-f785f2eeec17",
   "metadata": {},
   "outputs": [
    {
     "data": {
      "text/html": [
       "<div>\n",
       "<style scoped>\n",
       "    .dataframe tbody tr th:only-of-type {\n",
       "        vertical-align: middle;\n",
       "    }\n",
       "\n",
       "    .dataframe tbody tr th {\n",
       "        vertical-align: top;\n",
       "    }\n",
       "\n",
       "    .dataframe thead th {\n",
       "        text-align: right;\n",
       "    }\n",
       "</style>\n",
       "<table border=\"1\" class=\"dataframe\">\n",
       "  <thead>\n",
       "    <tr style=\"text-align: right;\">\n",
       "      <th></th>\n",
       "      <th>Name</th>\n",
       "      <th>Title</th>\n",
       "    </tr>\n",
       "  </thead>\n",
       "  <tbody>\n",
       "    <tr>\n",
       "      <th>0</th>\n",
       "      <td>Kelly, Mr. James</td>\n",
       "      <td>Mr</td>\n",
       "    </tr>\n",
       "    <tr>\n",
       "      <th>1</th>\n",
       "      <td>Wilkes, Mrs. James (Ellen Needs)</td>\n",
       "      <td>Mrs</td>\n",
       "    </tr>\n",
       "    <tr>\n",
       "      <th>2</th>\n",
       "      <td>Myles, Mr. Thomas Francis</td>\n",
       "      <td>Mr</td>\n",
       "    </tr>\n",
       "    <tr>\n",
       "      <th>3</th>\n",
       "      <td>Wirz, Mr. Albert</td>\n",
       "      <td>Mr</td>\n",
       "    </tr>\n",
       "    <tr>\n",
       "      <th>4</th>\n",
       "      <td>Hirvonen, Mrs. Alexander (Helga E Lindqvist)</td>\n",
       "      <td>Mrs</td>\n",
       "    </tr>\n",
       "    <tr>\n",
       "      <th>...</th>\n",
       "      <td>...</td>\n",
       "      <td>...</td>\n",
       "    </tr>\n",
       "    <tr>\n",
       "      <th>413</th>\n",
       "      <td>Spector, Mr. Woolf</td>\n",
       "      <td>Mr</td>\n",
       "    </tr>\n",
       "    <tr>\n",
       "      <th>414</th>\n",
       "      <td>Oliva y Ocana, Dona. Fermina</td>\n",
       "      <td>Rare</td>\n",
       "    </tr>\n",
       "    <tr>\n",
       "      <th>415</th>\n",
       "      <td>Saether, Mr. Simon Sivertsen</td>\n",
       "      <td>Mr</td>\n",
       "    </tr>\n",
       "    <tr>\n",
       "      <th>416</th>\n",
       "      <td>Ware, Mr. Frederick</td>\n",
       "      <td>Mr</td>\n",
       "    </tr>\n",
       "    <tr>\n",
       "      <th>417</th>\n",
       "      <td>Peter, Master. Michael J</td>\n",
       "      <td>Master</td>\n",
       "    </tr>\n",
       "  </tbody>\n",
       "</table>\n",
       "<p>418 rows × 2 columns</p>\n",
       "</div>"
      ],
      "text/plain": [
       "                                             Name   Title\n",
       "0                                Kelly, Mr. James      Mr\n",
       "1                Wilkes, Mrs. James (Ellen Needs)     Mrs\n",
       "2                       Myles, Mr. Thomas Francis      Mr\n",
       "3                                Wirz, Mr. Albert      Mr\n",
       "4    Hirvonen, Mrs. Alexander (Helga E Lindqvist)     Mrs\n",
       "..                                            ...     ...\n",
       "413                            Spector, Mr. Woolf      Mr\n",
       "414                  Oliva y Ocana, Dona. Fermina    Rare\n",
       "415                  Saether, Mr. Simon Sivertsen      Mr\n",
       "416                           Ware, Mr. Frederick      Mr\n",
       "417                      Peter, Master. Michael J  Master\n",
       "\n",
       "[418 rows x 2 columns]"
      ]
     },
     "execution_count": 21,
     "metadata": {},
     "output_type": "execute_result"
    }
   ],
   "source": [
    "# Create family size (SibSp + Parch + 1)\n",
    "df['FamilySize'] = df['SibSp'] + df['Parch'] + 1\n",
    "\n",
    "# Create indicator if alone\n",
    "df['IsAlone'] = (df['FamilySize'] == 1).astype(int)\n",
    "\n",
    "# Extract titles from names\n",
    "df['Title'] = df['Name'].str.extract(r' ([A-Za-z]+)\\.', expand=False)\n",
    "df['Title'] = df['Title'].replace(['Lady', 'Countess','Capt', 'Col', 'Don', 'Dr', \n",
    "                                  'Major', 'Rev', 'Sir', 'Jonkheer', 'Dona'], 'Rare')\n",
    "\n",
    "df['Title'] = df['Title'].replace({'Mlle': 'Miss', 'Ms':'Miss', 'Mme':'Mrs'})\n",
    "df[['Name','Title']]"
   ]
  },
  {
   "cell_type": "code",
   "execution_count": 22,
   "id": "1911e365-8f66-4bfd-906c-93e4e3c7c8bf",
   "metadata": {},
   "outputs": [
    {
     "name": "stdout",
     "output_type": "stream",
     "text": [
      "Colunas disponíveis:\n",
      "['PassengerId', 'Survived', 'Pclass', 'Name', 'Sex', 'Age', 'SibSp', 'Parch', 'Ticket', 'Fare', 'Cabin', 'Embarked', 'Has_Cabin', 'FamilySize', 'IsAlone', 'Title']\n",
      "\n",
      "Shape do DataFrame: (418, 16)\n",
      "\n",
      "Coluna 'Sex' existe: True\n",
      "Coluna 'Embarked' existe: True\n",
      "Coluna 'Title' existe: True\n"
     ]
    }
   ],
   "source": [
    "print(\"Colunas disponíveis:\")\n",
    "print(df.columns.tolist())\n",
    "print(f\"\\nShape do DataFrame: {df.shape}\")\n",
    "\n",
    "print(f\"\\nColuna 'Sex' existe: {'Sex' in df.columns}\")\n",
    "print(f\"Coluna 'Embarked' existe: {'Embarked' in df.columns}\")\n",
    "print(f\"Coluna 'Title' existe: {'Title' in df.columns}\")"
   ]
  },
  {
   "cell_type": "code",
   "execution_count": 23,
   "id": "36e62887-76cf-4b85-9ca4-773c2754f3fe",
   "metadata": {
    "scrolled": true
   },
   "outputs": [
    {
     "data": {
      "image/png": "[encoded data removed]",
      "text/plain": [
       "<Figure size 1000x600 with 1 Axes>"
      ]
     },
     "metadata": {},
     "output_type": "display_data"
    },
    {
     "data": {
      "image/png": "[encoded data removed]",
      "text/plain": [
       "<Figure size 1000x800 with 2 Axes>"
      ]
     },
     "metadata": {},
     "output_type": "display_data"
    }
   ],
   "source": [
    "# =========================================\n",
    "# 5. Correlation between numerical variables\n",
    "# =========================================\n",
    "correlation_matrix = df.corr(numeric_only=True)\n",
    "plt.figure(figsize=(10, 8))\n",
    "sns.heatmap(correlation_matrix, annot=True, cmap='coolwarm')\n",
    "plt.title('Correlation Matrix')\n",
    "plt.show()"
   ]
  },
  {
   "cell_type": "code",
   "execution_count": 24,
   "id": "237a3a2f-e0bc-4dbc-8c92-cb5c23348fe9",
   "metadata": {
    "scrolled": true
   },
   "outputs": [
    {
     "data": {
      "image/png": "[encoded data removed]",
      "text/plain": [
       "<Figure size 1500x1000 with 6 Axes>"
      ]
     },
     "metadata": {},
     "output_type": "display_data"
    }
   ],
   "source": [
    "# Survival by different features\n",
    "fig, axes = plt.subplots(2,3, figsize=(15,10))\n",
    "\n",
    "# Survival by Sex\n",
    "df.groupby('Sex')['Survived'].mean().plot(kind='bar', ax=axes[0,0])\n",
    "axes[0,0].set_title('Survival Rate by Sex')\n",
    "\n",
    "df.groupby('Pclass')['Survived'].mean().plot(kind='bar', ax=axes[0,1])\n",
    "axes[0,1].set_title('Survival Rate by Pclass')\n",
    "\n",
    "df.groupby('Embarked')['Survived'].mean().plot(kind='bar', ax=axes[0,2])\n",
    "axes[0,2].set_title('Survival Rate by Embarked')\n",
    "\n",
    "# Age distribution by survival\n",
    "df[df['Survived'] == 0]['Age'].plot(kind='hist', alpha=0.5, bins=20, ax=axes[1,0], label='Died')\n",
    "df[df['Survived'] == 1]['Age'].plot(kind='hist', alpha=0.5, bins=20, ax=axes[1,0], label='Survived')\n",
    "axes[1,0].set_title('Age Distribution by Survival')\n",
    "axes[1,0].legend()\n",
    "\n",
    "# Distribution of tariffs by survival\n",
    "df[df['Survived'] == 0]['Fare'].plot(kind='hist', alpha=0.5, bins=20, ax=axes[1,1], label='Died')\n",
    "df[df['Survived'] == 1]['Fare'].plot(kind='hist', alpha=0.5, bins=20, ax=axes[1,1], label='Survived')\n",
    "axes[1,1].set_title('Fare Distribution by Survival')\n",
    "axes[1,1].legend()\n",
    "\n",
    "plt.tight_layout()\n",
    "plt.show()"
   ]
  },
  {
   "cell_type": "code",
   "execution_count": 25,
   "id": "a3888b37-4149-4965-bfe8-a49f81004870",
   "metadata": {},
   "outputs": [],
   "source": [
    "# =========================================\n",
    "# 6. Transformation of categorical variables\n",
    "# =========================================\n",
    "df = pd.get_dummies(df, columns=['Sex','Embarked', 'Title'], drop_first=True)\n",
    "\n",
    "# Drop columns not useful for modeling\n",
    "df = df.drop(['PassengerId', 'Name', 'Ticket'], axis=1)\n"
   ]
  },
  {
   "cell_type": "code",
   "execution_count": 26,
   "id": "791de320-dcef-4a72-a1b5-4e31c970117c",
   "metadata": {},
   "outputs": [
    {
     "data": {
      "application/vnd.plotly.v1+json": {
       "config": {
        "plotlyServerURL": "https://plot.ly"
       },
       "data": [
        {
         "customdata": [
          [
           true
          ],
          [
           false
          ],
          [
           true
          ],
          [
           false
          ],
          [
           true
          ],
          [
           false
          ],
          [
           false
          ],
          [
           true
          ],
          [
           true
          ],
          [
           true
          ],
          [
           false
          ],
          [
           false
          ],
          [
           true
          ],
          [
           true
          ],
          [
           true
          ],
          [
           true
          ],
          [
           false
          ],
          [
           false
          ],
          [
           true
          ],
          [
           false
          ],
          [
           false
          ],
          [
           true
          ],
          [
           true
          ],
          [
           true
          ],
          [
           true
          ],
          [
           true
          ],
          [
           true
          ],
          [
           false
          ],
          [
           true
          ],
          [
           true
          ],
          [
           true
          ],
          [
           true
          ],
          [
           true
          ],
          [
           true
          ],
          [
           false
          ],
          [
           false
          ],
          [
           false
          ],
          [
           true
          ],
          [
           false
          ],
          [
           true
          ],
          [
           false
          ],
          [
           true
          ],
          [
           true
          ],
          [
           true
          ],
          [
           false
          ],
          [
           false
          ],
          [
           false
          ],
          [
           false
          ],
          [
           true
          ],
          [
           true
          ],
          [
           true
          ],
          [
           true
          ],
          [
           false
          ],
          [
           true
          ],
          [
           true
          ],
          [
           true
          ],
          [
           false
          ],
          [
           true
          ],
          [
           true
          ],
          [
           true
          ],
          [
           true
          ],
          [
           false
          ],
          [
           false
          ],
          [
           true
          ],
          [
           true
          ],
          [
           false
          ],
          [
           true
          ],
          [
           true
          ],
          [
           true
          ],
          [
           false
          ],
          [
           true
          ],
          [
           false
          ],
          [
           true
          ],
          [
           true
          ],
          [
           false
          ],
          [
           true
          ],
          [
           true
          ],
          [
           true
          ],
          [
           true
          ],
          [
           false
          ],
          [
           true
          ],
          [
           false
          ],
          [
           true
          ],
          [
           true
          ],
          [
           true
          ],
          [
           true
          ],
          [
           false
          ],
          [
           true
          ],
          [
           true
          ],
          [
           false
          ],
          [
           false
          ],
          [
           false
          ],
          [
           true
          ],
          [
           true
          ],
          [
           false
          ],
          [
           true
          ],
          [
           false
          ],
          [
           true
          ],
          [
           true
          ],
          [
           true
          ],
          [
           true
          ],
          [
           true
          ],
          [
           true
          ],
          [
           true
          ],
          [
           false
          ],
          [
           true
          ],
          [
           true
          ],
          [
           false
          ],
          [
           false
          ],
          [
           false
          ],
          [
           true
          ],
          [
           false
          ],
          [
           true
          ],
          [
           true
          ],
          [
           true
          ],
          [
           false
          ],
          [
           false
          ],
          [
           true
          ],
          [
           true
          ],
          [
           true
          ],
          [
           false
          ],
          [
           true
          ],
          [
           false
          ],
          [
           true
          ],
          [
           true
          ],
          [
           true
          ],
          [
           true
          ],
          [
           true
          ],
          [
           true
          ],
          [
           true
          ],
          [
           false
          ],
          [
           true
          ],
          [
           true
          ],
          [
           true
          ],
          [
           true
          ],
          [
           true
          ],
          [
           true
          ],
          [
           true
          ],
          [
           true
          ],
          [
           true
          ],
          [
           false
          ],
          [
           true
          ],
          [
           true
          ],
          [
           false
          ],
          [
           true
          ],
          [
           true
          ],
          [
           false
          ],
          [
           true
          ],
          [
           false
          ],
          [
           true
          ],
          [
           false
          ],
          [
           false
          ],
          [
           false
          ],
          [
           true
          ],
          [
           true
          ],
          [
           true
          ],
          [
           true
          ],
          [
           false
          ],
          [
           true
          ],
          [
           true
          ],
          [
           true
          ],
          [
           true
          ],
          [
           true
          ],
          [
           true
          ],
          [
           true
          ],
          [
           false
          ],
          [
           true
          ],
          [
           false
          ],
          [
           true
          ],
          [
           true
          ],
          [
           true
          ],
          [
           false
          ],
          [
           false
          ],
          [
           true
          ],
          [
           true
          ],
          [
           true
          ],
          [
           true
          ],
          [
           true
          ],
          [
           false
          ],
          [
           true
          ],
          [
           true
          ],
          [
           true
          ],
          [
           true
          ],
          [
           true
          ],
          [
           true
          ],
          [
           false
          ],
          [
           false
          ],
          [
           false
          ],
          [
           true
          ],
          [
           true
          ],
          [
           false
          ],
          [
           true
          ],
          [
           true
          ],
          [
           false
          ],
          [
           true
          ],
          [
           false
          ],
          [
           false
          ],
          [
           true
          ],
          [
           true
          ],
          [
           true
          ],
          [
           false
          ],
          [
           false
          ],
          [
           true
          ],
          [
           true
          ],
          [
           true
          ],
          [
           true
          ],
          [
           true
          ],
          [
           true
          ],
          [
           true
          ],
          [
           true
          ],
          [
           false
          ],
          [
           false
          ],
          [
           false
          ],
          [
           false
          ],
          [
           true
          ],
          [
           true
          ],
          [
           true
          ],
          [
           true
          ]
         ],
         "hovertemplate": "Pclass=3<br>Age=%{x}<br>Fare=%{y}<br>Sex_male=%{customdata[0]}<br>Survived=%{marker.color}<extra></extra>",
         "legendgroup": "",
         "marker": {
          "color": {
           "bdata": "AAEAAQABAQAAAAEBAAAAAAEBAAEBAAAAAAAAAQAAAAAAAAEBAQABAAEAAAABAQEBAAAAAAEAAAABAAAAAAEBAAABAAAAAQABAAABAAAAAAEAAQAAAAABAAABAQEAAAEAAQAAAAAAAAABAAABAQEAAQAAAAEBAAAAAQABAAAAAAAAAAEAAAAAAAAAAAABAAABAAABAAEAAQEBAAAAAAEAAAAAAAAAAQABAAAAAQEAAAAAAAEAAAAAAAABAQEAAAEAAAEAAQEAAAABAQAAAAAAAAAAAQEBAQAAAAA=",
           "dtype": "i1"
          },
          "coloraxis": "coloraxis",
          "symbol": "circle"
         },
         "mode": "markers",
         "name": "",
         "orientation": "v",
         "showlegend": false,
         "type": "scatter",
         "x": {
          "bdata": "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",
          "dtype": "f8"
         },
         "xaxis": "x",
         "y": {
          "bdata": "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",
          "dtype": "f8"
         },
         "yaxis": "y"
        },
        {
         "customdata": [
          [
           true
          ],
          [
           true
          ],
          [
           true
          ],
          [
           false
          ],
          [
           true
          ],
          [
           true
          ],
          [
           true
          ],
          [
           false
          ],
          [
           true
          ],
          [
           false
          ],
          [
           true
          ],
          [
           true
          ],
          [
           false
          ],
          [
           true
          ],
          [
           true
          ],
          [
           true
          ],
          [
           true
          ],
          [
           true
          ],
          [
           true
          ],
          [
           false
          ],
          [
           false
          ],
          [
           true
          ],
          [
           true
          ],
          [
           true
          ],
          [
           true
          ],
          [
           false
          ],
          [
           true
          ],
          [
           false
          ],
          [
           false
          ],
          [
           false
          ],
          [
           true
          ],
          [
           true
          ],
          [
           false
          ],
          [
           true
          ],
          [
           true
          ],
          [
           true
          ],
          [
           true
          ],
          [
           true
          ],
          [
           false
          ],
          [
           true
          ],
          [
           true
          ],
          [
           true
          ],
          [
           false
          ],
          [
           false
          ],
          [
           false
          ],
          [
           true
          ],
          [
           true
          ],
          [
           false
          ],
          [
           false
          ],
          [
           false
          ],
          [
           true
          ],
          [
           false
          ],
          [
           false
          ],
          [
           false
          ],
          [
           false
          ],
          [
           true
          ],
          [
           false
          ],
          [
           true
          ],
          [
           true
          ],
          [
           true
          ],
          [
           true
          ],
          [
           false
          ],
          [
           true
          ],
          [
           true
          ],
          [
           true
          ],
          [
           true
          ],
          [
           true
          ],
          [
           false
          ],
          [
           true
          ],
          [
           true
          ],
          [
           false
          ],
          [
           true
          ],
          [
           true
          ],
          [
           true
          ],
          [
           true
          ],
          [
           true
          ],
          [
           false
          ],
          [
           true
          ],
          [
           true
          ],
          [
           true
          ],
          [
           false
          ],
          [
           false
          ],
          [
           true
          ],
          [
           true
          ],
          [
           true
          ],
          [
           true
          ],
          [
           true
          ],
          [
           false
          ],
          [
           true
          ],
          [
           true
          ],
          [
           true
          ],
          [
           true
          ],
          [
           true
          ]
         ],
         "hovertemplate": "Pclass=2<br>Age=%{x}<br>Fare=%{y}<br>Sex_male=%{customdata[0]}<br>Survived=%{marker.color}<extra></extra>",
         "legendgroup": "",
         "marker": {
          "color": {
           "bdata": "AAAAAQAAAAEAAQAAAQAAAAAAAAEBAAAAAAEAAQEBAAABAAAAAAABAAAAAQEBAAABAQEAAQEBAQABAAAAAAEAAAAAAAEAAAEAAAAAAAEAAAABAQAAAAAAAQAAAAAA",
           "dtype": "i1"
          },
          "coloraxis": "coloraxis",
          "symbol": "circle"
         },
         "mode": "markers",
         "name": "",
         "orientation": "v",
         "showlegend": false,
         "type": "scatter",
         "x": {
          "bdata": "AAAAAAAAT0AAAAAAAAA6QAAAAAAAgE9AAAAAAAAAOEAAAAAAAIBBQAAAAAAAAElAAAAAAAAAOEAAAAAAAAA+QAAAAAAAADtAAAAAAAAANEAAAAAAAAA8QAAAAAAAAEBAAAAAAAAAOEAAAAAAAAA+QAAAAAAAADxAAAAAAAAAAEAAAAAAAAA7QAAAAAAAgDJAAAAAAACAREAAAAAAAAA9QAAAAAAAAChAAAAAAAAARUAAAAAAAAA6QAAAAAAAADxAAAAAAAAAPkAAAAAAAAA6QAAAAAAAgERAAAAAAAAALkAAAAAAAAA0QAAAAAAAAEJAAAAAAAAAPkAAAAAAAABEQAAAAAAAADVAAAAAAAAAREAAAAAAAABBQAAAAAAAgE5AAAAAAAAAIEAAAAAAAAA3QAAAAAAAACBAAAAAAAAAOUAAAAAAAAA4QAAAAAAAADFAAAAAAAAATkAAAAAAAAA+QAAAAAAAADZAAAAAAAAAQkAAAAAAAAAsQAAAAAAAADJAAAAAAACARkAAAAAAAAA2QAAAAAAAAEVAAAAAAAAAPUBxPQrXo3DtPwAAAAAAADNAAAAAAAAAPUAAAAAAAAA+QAAAAAAAADRAAAAAAAAAPEAAAAAAAABEQAAAAAAAAD5AAAAAAAAANkAAAAAAAADwPwAAAAAAADxAAAAAAACARUAAAAAAAAAzQAAAAAAAADZAAAAAAAAAOkAAAAAAAAAoQAAAAAAAAD1AAAAAAAAANUAAAAAAAABIQAAAAAAAAEBAAAAAAAAAOUAAAAAAAAAyQAAAAAAAADpAAAAAAAAAOEAAAAAAAAA/QAAAAAAAADlAAAAAAAAAMkAAAAAAAIBIQAAAAAAAADhAAAAAAAAAP0AAAAAAAAA9QAAAAAAAADVAAAAAAAAARkAAAAAAAAA1QAAAAAAAADxAAAAAAAAAOEAAAAAAAIBMQAAAAAAAgEdAAAAAAAAAQ0AAAAAAAAA0QAAAAAAAADdA",
          "dtype": "f8"
         },
         "xaxis": "x2",
         "y": {
          "bdata": "AAAAAABgI0AAAAAAAAA9QAAAAAAAADpA8fRKWYa4O0AzMzMzM7MoQAAAAAAAADpAAAAAAACAP0AAAAAAAAAqQOLplbIMES5AAAAAAAAAN0C4rwPnjCgvQAAAAAAAACtAAAAAAAAANUAAAAAAAAAqQHuDL0ymaiVAAAAAAAAAN0AAAAAAAAA6QAAAAAAAACpASFD8GHMXLkAAAAAAAAA6QAAAAAAAgC9AAAAAAAAAKkAAAAAAAAAqQAAAAAAAADpAAAAAAAAAOkAAAAAAAAArQAAAAAAAACpAAAAAAACAQ0AAAAAAAGBCQAAAAAAAgENAAAAAAAAAKkAAAAAAAAAwQAAAAAAAADVAAAAAAAAAKkAAAAAAAAA6QDMzMzMzsyhAAAAAAABAQEAAAAAAAAAlQAAAAAAAADpAAAAAAAAAJUAAAAAAAAAlQAAAAAAAYFJAAAAAAAAAOkBIUPwYc7crQAAAAAAAACVAAAAAAAAAKkAAAAAAAEBQQAAAAAAAACpAAAAAAAAAPkAAAAAAAAA1QAAAAAAAQEBAAAAAAAAAOkAAAAAAAMA7QAAAAAAAACpAAAAAAAAAN0CamZmZmXkpQAAAAAAAADpAAAAAAAAAJUAAAAAAAAA6QAAAAAAAADVAAAAAAAAAJUDu68A5I8pEQEhQ/BhzFy5AAAAAAAAANUAAAAAAAAAlQAAAAAAAgD9AAAAAAAAAKkAAAAAAAIBDQAAAAAAAADpAAAAAAAAAKkAAAAAAAGBCQAAAAAAAACpAAAAAAACAP0AAAAAAAAAlQAAAAAAAACpAAAAAAAAAK0AAAAAAAAA1QAAAAAAAACVAAAAAAABgUkAAAAAAAEBQQFRSJ6CJgEJAAAAAAAAANUBIUPwYc7crQAAAAAAAACdAAAAAAAAAKkAAAAAAAAAnQAAAAAAAwClAAAAAAABAUEAAAAAAAAAqQAAAAAAAACVAAAAAAAAANUCamZmZmbkrQAAAAAAAACVA",
          "dtype": "f8"
         },
         "yaxis": "y2"
        },
        {
         "customdata": [
          [
           true
          ],
          [
           false
          ],
          [
           false
          ],
          [
           true
          ],
          [
           false
          ],
          [
           true
          ],
          [
           false
          ],
          [
           false
          ],
          [
           true
          ],
          [
           true
          ],
          [
           true
          ],
          [
           false
          ],
          [
           true
          ],
          [
           false
          ],
          [
           true
          ],
          [
           false
          ],
          [
           false
          ],
          [
           true
          ],
          [
           true
          ],
          [
           true
          ],
          [
           false
          ],
          [
           true
          ],
          [
           false
          ],
          [
           true
          ],
          [
           false
          ],
          [
           true
          ],
          [
           true
          ],
          [
           false
          ],
          [
           true
          ],
          [
           false
          ],
          [
           false
          ],
          [
           false
          ],
          [
           false
          ],
          [
           true
          ],
          [
           false
          ],
          [
           true
          ],
          [
           false
          ],
          [
           true
          ],
          [
           true
          ],
          [
           true
          ],
          [
           true
          ],
          [
           false
          ],
          [
           false
          ],
          [
           true
          ],
          [
           true
          ],
          [
           false
          ],
          [
           true
          ],
          [
           false
          ],
          [
           true
          ],
          [
           false
          ],
          [
           false
          ],
          [
           true
          ],
          [
           true
          ],
          [
           true
          ],
          [
           true
          ],
          [
           false
          ],
          [
           true
          ],
          [
           true
          ],
          [
           false
          ],
          [
           false
          ],
          [
           false
          ],
          [
           true
          ],
          [
           true
          ],
          [
           false
          ],
          [
           false
          ],
          [
           true
          ],
          [
           true
          ],
          [
           true
          ],
          [
           true
          ],
          [
           true
          ],
          [
           false
          ],
          [
           true
          ],
          [
           true
          ],
          [
           true
          ],
          [
           true
          ],
          [
           false
          ],
          [
           true
          ],
          [
           true
          ],
          [
           false
          ],
          [
           true
          ],
          [
           true
          ],
          [
           false
          ],
          [
           true
          ],
          [
           true
          ],
          [
           true
          ],
          [
           false
          ],
          [
           false
          ],
          [
           true
          ],
          [
           false
          ],
          [
           false
          ],
          [
           false
          ],
          [
           false
          ],
          [
           true
          ],
          [
           false
          ],
          [
           false
          ],
          [
           true
          ],
          [
           true
          ],
          [
           false
          ],
          [
           false
          ],
          [
           false
          ],
          [
           false
          ],
          [
           false
          ],
          [
           true
          ],
          [
           true
          ],
          [
           true
          ],
          [
           false
          ],
          [
           false
          ]
         ],
         "hovertemplate": "Pclass=1<br>Age=%{x}<br>Fare=%{y}<br>Sex_male=%{customdata[0]}<br>Survived=%{marker.color}<extra></extra>",
         "legendgroup": "",
         "marker": {
          "color": {
           "bdata": "AAEBAAEAAQEAAAABAAEAAQEAAAABAAEAAQAAAQABAQEBAAEAAQAAAAABAQAAAQABAAEBAAAAAAEAAAEBAQAAAQEAAAAAAAEAAAAAAQAAAQAAAQAAAAEBAAEBAQEAAQEAAAEBAQEBAAAAAQE=",
           "dtype": "i1"
          },
          "coloraxis": "coloraxis",
          "symbol": "circle"
         },
         "mode": "markers",
         "name": "",
         "orientation": "v",
         "showlegend": false,
         "type": "scatter",
         "x": {
          "bdata": "AAAAAAAAR0AAAAAAAAA3QAAAAAAAgEdAAAAAAACAS0AAAAAAAIBEQAAAAAAAADVAAAAAAAAASEAAAAAAAAA2QAAAAAAAgERAAAAAAAAAPkAAAAAAAABFQAAAAAAAgEZAAAAAAACARkAAAAAAAABOQAAAAAAAADhAAAAAAAAAPEAAAAAAAABCQAAAAAAAACpAAAAAAACAR0AAAAAAAAA/QAAAAAAAAE5AAAAAAACAPEAAAAAAAIBBQAAAAAAAQEBAAAAAAACAS0AAAAAAAMBQQAAAAAAAgEhAAAAAAAAAO0AAAAAAAAA5QAAAAAAAAFNAAAAAAACARUAAAAAAAABCQAAAAAAAgE9AAAAAAAAAQkAAAAAAAIBBQAAAAAAAgEpAAAAAAACAQEAAAAAAAIBOQAAAAAAAAEVAAAAAAAAARUAAAAAAAABFQAAAAAAAADdAAAAAAAAAPUAAAAAAAABFQAAAAAAAAEhAAAAAAACAREAAAAAAAABLQAAAAAAAAFBAAAAAAACAQkAAAAAAAAAyQAAAAAAAADtAAAAAAAAARUAAAAAAAAAYQAAAAAAAgEdAAAAAAAAARUAAAAAAAIBAQAAAAAAAAEVAAAAAAACATEAAAAAAAABJQAAAAAAAgEpAAAAAAAAANUAAAAAAAIBDQAAAAAAAAFBAAAAAAAAASEAAAAAAAIBLQAAAAAAAgEZAAAAAAACAREAAAAAAAAA7QAAAAAAAAEVAAAAAAAAAR0AAAAAAAAA6QAAAAAAAADhAAAAAAAAARUAAAAAAAIBKQAAAAAAAAD5AAAAAAAAAUEAAAAAAAAA+QAAAAAAAgEtAAAAAAACAS0AAAAAAAIBMQAAAAAAAgEBAAAAAAACAQ0AAAAAAAABHQAAAAAAAgENAAAAAAAAAPkAAAAAAAABNQAAAAAAAgEZAAAAAAAAASUAAAAAAAIBNQAAAAAAAADlAAAAAAACARkAAAAAAAAA/QAAAAAAAgEhAAAAAAAAAS0AAAAAAAIBGQAAAAAAAgEtAAAAAAAAAN0AAAAAAAIBJQAAAAAAAADJAAAAAAAAASEAAAAAAAAA+QAAAAAAAADZAAAAAAAAAMUAAAAAAAIBFQAAAAAAAAElAAAAAAACAQkAAAAAAAIBDQA==",
          "dtype": "f8"
         },
         "xaxis": "x3",
         "y": {
          "bdata": "AAAAAAAAOkD3deCcEZFUQGZmZmZmlk5AMzMzMzOzTUBXW7G/7K4/QFRSJ6CJsE5AAAAAAABmcEAhH/RsVv1OQAAAAAAAgD5AAAAAAADgTEDNzMzMzIw6QLu4jQbwRkpAMzMzMzOzPUCRD3o2qxJTQAAAAAAAAE5AAAAAAABwcEAAAAAAAGZwQAAAAAAAZnBAMzMzMzMzRUCamZmZmYk8QAAAAAAAcHBA8fRKWYa4O0AAAAAAAHBqQAAAAAAAcGpAMzMzMzOzOUBiodY077hrQAAAAAAAADpAAAAAAAAASkAAAAAAAAA6QGZmZmZmtlNAVFInoIm4S0B2cRsN4K0/QGKh1jTvuGtAXdxGA3jPUkAAAAAAAOBMQAAAAAAAgDxAmpmZmZnxYkAAAAAAAGZwQM3MzMzMjDpAZmZmZmbuSUDNzMzMzIw6QDy9UpYhylRAYqHWNO+4a0DNzMzMzIw6QKyt2F92P0lA8fRKWYa4O0BUUiegibhLQDy9UpYhylRAPL1SliHKVEDNzMzMzIxKQDj4wmSq8G5AAAAAAAAAOkAAAAAAANBgQM3MzMzMcGxAdnEbDeC9OUDx9EpZhrg7QAAAAAAAQEVAL26jAbybZEAAAAAAAHBqQIqO5PIfcjtAzczMzMyMOkA8vVKWIdJRQAAAAAAA0FJAMzMzMzObWkDx9EpZhrg7QAAAAAAA0GBAZmZmZmbuSUBiodY07xhhQAAAAAAAAAAAXdxGA3jPUkBiodY07xhhQPd14JwRkVRAzczMzMzMQ0AJih9j7nZUQAAAAAAAwEZAzczMzMyMOkCamZmZmfFiQAAAAAAAYFdA0ZFc/kP0YEA4+MJkqlBiQM3MzMzMjDpAzczMzMxqakDNzMzMzMxTQDMzMzMzsz1AAAAAAAAAOkC/DpwzogKAQBIUP8bcrU9AAAAAAAAAOkAhH/RsVr1JQFRSJ6CJuEtAMzMzMzOzTUAAAAAAANBgQAAAAAAAAAAACYofY+52VEAAAAAAAGZwQAAAAAAAAElAAAAAAABgV0AzMzMzM7NDQAAAAAAAAE5AzczMzMzMU0AvbqMBvJtkQDMzMzMzs01AzczMzMyMR0Dx9EpZhrg7QAAAAAAAcGpAAAAAAACAVkCamZmZmTlbQA==",
          "dtype": "f8"
         },
         "yaxis": "y3"
        }
       ],
       "layout": {
        "annotations": [
         {
          "font": {},
          "showarrow": false,
          "text": "Pclass=3",
          "x": 0.15999999999999998,
          "xanchor": "center",
          "xref": "paper",
          "y": 1,
          "yanchor": "bottom",
          "yref": "paper"
         },
         {
          "font": {},
          "showarrow": false,
          "text": "Pclass=2",
          "x": 0.49999999999999994,
          "xanchor": "center",
          "xref": "paper",
          "y": 1,
          "yanchor": "bottom",
          "yref": "paper"
         },
         {
          "font": {},
          "showarrow": false,
          "text": "Pclass=1",
          "x": 0.8399999999999999,
          "xanchor": "center",
          "xref": "paper",
          "y": 1,
          "yanchor": "bottom",
          "yref": "paper"
         }
        ],
        "coloraxis": {
         "colorbar": {
          "title": {
           "text": "Survived"
          }
         },
         "colorscale": [
          [
           0,
           "#0d0887"
          ],
          [
           0.1111111111111111,
           "#46039f"
          ],
          [
           0.2222222222222222,
           "#7201a8"
          ],
          [
           0.3333333333333333,
           "#9c179e"
          ],
          [
           0.4444444444444444,
           "#bd3786"
          ],
          [
           0.5555555555555556,
           "#d8576b"
          ],
          [
           0.6666666666666666,
           "#ed7953"
          ],
          [
           0.7777777777777778,
           "#fb9f3a"
          ],
          [
           0.8888888888888888,
           "#fdca26"
          ],
          [
           1,
           "#f0f921"
          ]
         ]
        },
        "legend": {
         "tracegroupgap": 0
        },
        "template": {
         "data": {
          "bar": [
           {
            "error_x": {
             "color": "#2a3f5f"
            },
            "error_y": {
             "color": "#2a3f5f"
            },
            "marker": {
             "line": {
              "color": "#E5ECF6",
              "width": 0.5
             },
             "pattern": {
              "fillmode": "overlay",
              "size": 10,
              "solidity": 0.2
             }
            },
            "type": "bar"
           }
          ],
          "barpolar": [
           {
            "marker": {
             "line": {
              "color": "#E5ECF6",
              "width": 0.5
             },
             "pattern": {
              "fillmode": "overlay",
              "size": 10,
              "solidity": 0.2
             }
            },
            "type": "barpolar"
           }
          ],
          "carpet": [
           {
            "aaxis": {
             "endlinecolor": "#2a3f5f",
             "gridcolor": "white",
             "linecolor": "white",
             "minorgridcolor": "white",
             "startlinecolor": "#2a3f5f"
            },
            "baxis": {
             "endlinecolor": "#2a3f5f",
             "gridcolor": "white",
             "linecolor": "white",
             "minorgridcolor": "white",
             "startlinecolor": "#2a3f5f"
            },
            "type": "carpet"
           }
          ],
          "choropleth": [
           {
            "colorbar": {
             "outlinewidth": 0,
             "ticks": ""
            },
            "type": "choropleth"
           }
          ],
          "contour": [
           {
            "colorbar": {
             "outlinewidth": 0,
             "ticks": ""
            },
            "colorscale": [
             [
              0,
              "#0d0887"
             ],
             [
              0.1111111111111111,
              "#46039f"
             ],
             [
              0.2222222222222222,
              "#7201a8"
             ],
             [
              0.3333333333333333,
              "#9c179e"
             ],
             [
              0.4444444444444444,
              "#bd3786"
             ],
             [
              0.5555555555555556,
              "#d8576b"
             ],
             [
              0.6666666666666666,
              "#ed7953"
             ],
             [
              0.7777777777777778,
              "#fb9f3a"
             ],
             [
              0.8888888888888888,
              "#fdca26"
             ],
             [
              1,
              "#f0f921"
             ]
            ],
            "type": "contour"
           }
          ],
          "contourcarpet": [
           {
            "colorbar": {
             "outlinewidth": 0,
             "ticks": ""
            },
            "type": "contourcarpet"
           }
          ],
          "heatmap": [
           {
            "colorbar": {
             "outlinewidth": 0,
             "ticks": ""
            },
            "colorscale": [
             [
              0,
              "#0d0887"
             ],
             [
              0.1111111111111111,
              "#46039f"
             ],
             [
              0.2222222222222222,
              "#7201a8"
             ],
             [
              0.3333333333333333,
              "#9c179e"
             ],
             [
              0.4444444444444444,
              "#bd3786"
             ],
             [
              0.5555555555555556,
              "#d8576b"
             ],
             [
              0.6666666666666666,
              "#ed7953"
             ],
             [
              0.7777777777777778,
              "#fb9f3a"
             ],
             [
              0.8888888888888888,
              "#fdca26"
             ],
             [
              1,
              "#f0f921"
             ]
            ],
            "type": "heatmap"
           }
          ],
          "histogram": [
           {
            "marker": {
             "pattern": {
              "fillmode": "overlay",
              "size": 10,
              "solidity": 0.2
             }
            },
            "type": "histogram"
           }
          ],
          "histogram2d": [
           {
            "colorbar": {
             "outlinewidth": 0,
             "ticks": ""
            },
            "colorscale": [
             [
              0,
              "#0d0887"
             ],
             [
              0.1111111111111111,
              "#46039f"
             ],
             [
              0.2222222222222222,
              "#7201a8"
             ],
             [
              0.3333333333333333,
              "#9c179e"
             ],
             [
              0.4444444444444444,
              "#bd3786"
             ],
             [
              0.5555555555555556,
              "#d8576b"
             ],
             [
              0.6666666666666666,
              "#ed7953"
             ],
             [
              0.7777777777777778,
              "#fb9f3a"
             ],
             [
              0.8888888888888888,
              "#fdca26"
             ],
             [
              1,
              "#f0f921"
             ]
            ],
            "type": "histogram2d"
           }
          ],
          "histogram2dcontour": [
           {
            "colorbar": {
             "outlinewidth": 0,
             "ticks": ""
            },
            "colorscale": [
             [
              0,
              "#0d0887"
             ],
             [
              0.1111111111111111,
              "#46039f"
             ],
             [
              0.2222222222222222,
              "#7201a8"
             ],
             [
              0.3333333333333333,
              "#9c179e"
             ],
             [
              0.4444444444444444,
              "#bd3786"
             ],
             [
              0.5555555555555556,
              "#d8576b"
             ],
             [
              0.6666666666666666,
              "#ed7953"
             ],
             [
              0.7777777777777778,
              "#fb9f3a"
             ],
             [
              0.8888888888888888,
              "#fdca26"
             ],
             [
              1,
              "#f0f921"
             ]
            ],
            "type": "histogram2dcontour"
           }
          ],
          "mesh3d": [
           {
            "colorbar": {
             "outlinewidth": 0,
             "ticks": ""
            },
            "type": "mesh3d"
           }
          ],
          "parcoords": [
           {
            "line": {
             "colorbar": {
              "outlinewidth": 0,
              "ticks": ""
             }
            },
            "type": "parcoords"
           }
          ],
          "pie": [
           {
            "automargin": true,
            "type": "pie"
           }
          ],
          "scatter": [
           {
            "fillpattern": {
             "fillmode": "overlay",
             "size": 10,
             "solidity": 0.2
            },
            "type": "scatter"
           }
          ],
          "scatter3d": [
           {
            "line": {
             "colorbar": {
              "outlinewidth": 0,
              "ticks": ""
             }
            },
            "marker": {
             "colorbar": {
              "outlinewidth": 0,
              "ticks": ""
             }
            },
            "type": "scatter3d"
           }
          ],
          "scattercarpet": [
           {
            "marker": {
             "colorbar": {
              "outlinewidth": 0,
              "ticks": ""
             }
            },
            "type": "scattercarpet"
           }
          ],
          "scattergeo": [
           {
            "marker": {
             "colorbar": {
              "outlinewidth": 0,
              "ticks": ""
             }
            },
            "type": "scattergeo"
           }
          ],
          "scattergl": [
           {
            "marker": {
             "colorbar": {
              "outlinewidth": 0,
              "ticks": ""
             }
            },
            "type": "scattergl"
           }
          ],
          "scattermap": [
           {
            "marker": {
             "colorbar": {
              "outlinewidth": 0,
              "ticks": ""
             }
            },
            "type": "scattermap"
           }
          ],
          "scattermapbox": [
           {
            "marker": {
             "colorbar": {
              "outlinewidth": 0,
              "ticks": ""
             }
            },
            "type": "scattermapbox"
           }
          ],
          "scatterpolar": [
           {
            "marker": {
             "colorbar": {
              "outlinewidth": 0,
              "ticks": ""
             }
            },
            "type": "scatterpolar"
           }
          ],
          "scatterpolargl": [
           {
            "marker": {
             "colorbar": {
              "outlinewidth": 0,
              "ticks": ""
             }
            },
            "type": "scatterpolargl"
           }
          ],
          "scatterternary": [
           {
            "marker": {
             "colorbar": {
              "outlinewidth": 0,
              "ticks": ""
             }
            },
            "type": "scatterternary"
           }
          ],
          "surface": [
           {
            "colorbar": {
             "outlinewidth": 0,
             "ticks": ""
            },
            "colorscale": [
             [
              0,
              "#0d0887"
             ],
             [
              0.1111111111111111,
              "#46039f"
             ],
             [
              0.2222222222222222,
              "#7201a8"
             ],
             [
              0.3333333333333333,
              "#9c179e"
             ],
             [
              0.4444444444444444,
              "#bd3786"
             ],
             [
              0.5555555555555556,
              "#d8576b"
             ],
             [
              0.6666666666666666,
              "#ed7953"
             ],
             [
              0.7777777777777778,
              "#fb9f3a"
             ],
             [
              0.8888888888888888,
              "#fdca26"
             ],
             [
              1,
              "#f0f921"
             ]
            ],
            "type": "surface"
           }
          ],
          "table": [
           {
            "cells": {
             "fill": {
              "color": "#EBF0F8"
             },
             "line": {
              "color": "white"
             }
            },
            "header": {
             "fill": {
              "color": "#C8D4E3"
             },
             "line": {
              "color": "white"
             }
            },
            "type": "table"
           }
          ]
         },
         "layout": {
          "annotationdefaults": {
           "arrowcolor": "#2a3f5f",
           "arrowhead": 0,
           "arrowwidth": 1
          },
          "autotypenumbers": "strict",
          "coloraxis": {
           "colorbar": {
            "outlinewidth": 0,
            "ticks": ""
           }
          },
          "colorscale": {
           "diverging": [
            [
             0,
             "#8e0152"
            ],
            [
             0.1,
             "#c51b7d"
            ],
            [
             0.2,
             "#de77ae"
            ],
            [
             0.3,
             "#f1b6da"
            ],
            [
             0.4,
             "#fde0ef"
            ],
            [
             0.5,
             "#f7f7f7"
            ],
            [
             0.6,
             "#e6f5d0"
            ],
            [
             0.7,
             "#b8e186"
            ],
            [
             0.8,
             "#7fbc41"
            ],
            [
             0.9,
             "#4d9221"
            ],
            [
             1,
             "#276419"
            ]
           ],
           "sequential": [
            [
             0,
             "#0d0887"
            ],
            [
             0.1111111111111111,
             "#46039f"
            ],
            [
             0.2222222222222222,
             "#7201a8"
            ],
            [
             0.3333333333333333,
             "#9c179e"
            ],
            [
             0.4444444444444444,
             "#bd3786"
            ],
            [
             0.5555555555555556,
             "#d8576b"
            ],
            [
             0.6666666666666666,
             "#ed7953"
            ],
            [
             0.7777777777777778,
             "#fb9f3a"
            ],
            [
             0.8888888888888888,
             "#fdca26"
            ],
            [
             1,
             "#f0f921"
            ]
           ],
           "sequentialminus": [
            [
             0,
             "#0d0887"
            ],
            [
             0.1111111111111111,
             "#46039f"
            ],
            [
             0.2222222222222222,
             "#7201a8"
            ],
            [
             0.3333333333333333,
             "#9c179e"
            ],
            [
             0.4444444444444444,
             "#bd3786"
            ],
            [
             0.5555555555555556,
             "#d8576b"
            ],
            [
             0.6666666666666666,
             "#ed7953"
            ],
            [
             0.7777777777777778,
             "#fb9f3a"
            ],
            [
             0.8888888888888888,
             "#fdca26"
            ],
            [
             1,
             "#f0f921"
            ]
           ]
          },
          "colorway": [
           "#636efa",
           "#EF553B",
           "#00cc96",
           "#ab63fa",
           "#FFA15A",
           "#19d3f3",
           "#FF6692",
           "#B6E880",
           "#FF97FF",
           "#FECB52"
          ],
          "font": {
           "color": "#2a3f5f"
          },
          "geo": {
           "bgcolor": "white",
           "lakecolor": "white",
           "landcolor": "#E5ECF6",
           "showlakes": true,
           "showland": true,
           "subunitcolor": "white"
          },
          "hoverlabel": {
           "align": "left"
          },
          "hovermode": "closest",
          "mapbox": {
           "style": "light"
          },
          "paper_bgcolor": "white",
          "plot_bgcolor": "#E5ECF6",
          "polar": {
           "angularaxis": {
            "gridcolor": "white",
            "linecolor": "white",
            "ticks": ""
           },
           "bgcolor": "#E5ECF6",
           "radialaxis": {
            "gridcolor": "white",
            "linecolor": "white",
            "ticks": ""
           }
          },
          "scene": {
           "xaxis": {
            "backgroundcolor": "#E5ECF6",
            "gridcolor": "white",
            "gridwidth": 2,
            "linecolor": "white",
            "showbackground": true,
            "ticks": "",
            "zerolinecolor": "white"
           },
           "yaxis": {
            "backgroundcolor": "#E5ECF6",
            "gridcolor": "white",
            "gridwidth": 2,
            "linecolor": "white",
            "showbackground": true,
            "ticks": "",
            "zerolinecolor": "white"
           },
           "zaxis": {
            "backgroundcolor": "#E5ECF6",
            "gridcolor": "white",
            "gridwidth": 2,
            "linecolor": "white",
            "showbackground": true,
            "ticks": "",
            "zerolinecolor": "white"
           }
          },
          "shapedefaults": {
           "line": {
            "color": "#2a3f5f"
           }
          },
          "ternary": {
           "aaxis": {
            "gridcolor": "white",
            "linecolor": "white",
            "ticks": ""
           },
           "baxis": {
            "gridcolor": "white",
            "linecolor": "white",
            "ticks": ""
           },
           "bgcolor": "#E5ECF6",
           "caxis": {
            "gridcolor": "white",
            "linecolor": "white",
            "ticks": ""
           }
          },
          "title": {
           "x": 0.05
          },
          "xaxis": {
           "automargin": true,
           "gridcolor": "white",
           "linecolor": "white",
           "ticks": "",
           "title": {
            "standoff": 15
           },
           "zerolinecolor": "white",
           "zerolinewidth": 2
          },
          "yaxis": {
           "automargin": true,
           "gridcolor": "white",
           "linecolor": "white",
           "ticks": "",
           "title": {
            "standoff": 15
           },
           "zerolinecolor": "white",
           "zerolinewidth": 2
          }
         }
        },
        "title": {
         "text": "Survival by Age, Fare and Class"
        },
        "xaxis": {
         "anchor": "y",
         "domain": [
          0,
          0.31999999999999995
         ],
         "title": {
          "text": "Age"
         }
        },
        "xaxis2": {
         "anchor": "y2",
         "domain": [
          0.33999999999999997,
          0.6599999999999999
         ],
         "matches": "x",
         "title": {
          "text": "Age"
         }
        },
        "xaxis3": {
         "anchor": "y3",
         "domain": [
          0.6799999999999999,
          0.9999999999999999
         ],
         "matches": "x",
         "title": {
          "text": "Age"
         }
        },
        "yaxis": {
         "anchor": "x",
         "domain": [
          0,
          1
         ],
         "title": {
          "text": "Fare"
         }
        },
        "yaxis2": {
         "anchor": "x2",
         "domain": [
          0,
          1
         ],
         "matches": "y",
         "showticklabels": false
        },
        "yaxis3": {
         "anchor": "x3",
         "domain": [
          0,
          1
         ],
         "matches": "y",
         "showticklabels": false
        }
       }
      },
      "text/html": [
       "<div>            <script src=\"https://cdnjs.cloudflare.com/ajax/libs/mathjax/2.7.5/MathJax.js?config=TeX-AMS-MML_SVG\"></script><script type=\"text/javascript\">if (window.MathJax && window.MathJax.Hub && window.MathJax.Hub.Config) {window.MathJax.Hub.Config({SVG: {font: \"STIX-Web\"}});}</script>                <script type=\"text/javascript\">window.PlotlyConfig = {MathJaxConfig: 'local'};</script>\n",
       "        <script charset=\"utf-8\" src=\"https://cdn.plot.ly/plotly-3.0.0.min.js\"></script>                <div id=\"bd7fa5e7-3019-4488-b3a3-7ae8054b0b46\" class=\"plotly-graph-div\" style=\"height:525px; width:100%;\"></div>            <script type=\"text/javascript\">                window.PLOTLYENV=window.PLOTLYENV || {};                                if (document.getElementById(\"bd7fa5e7-3019-4488-b3a3-7ae8054b0b46\")) {                    Plotly.newPlot(                        \"bd7fa5e7-3019-4488-b3a3-7ae8054b0b46\",                        [{\"customdata\":[[true],[false],[true],[false],[true],[false],[false],[true],[true],[true],[false],[false],[true],[true],[true],[true],[false],[false],[true],[false],[false],[true],[true],[true],[true],[true],[true],[false],[true],[true],[true],[true],[true],[true],[false],[false],[false],[true],[false],[true],[false],[true],[true],[true],[false],[false],[false],[false],[true],[true],[true],[true],[false],[true],[true],[true],[false],[true],[true],[true],[true],[false],[false],[true],[true],[false],[true],[true],[true],[false],[true],[false],[true],[true],[false],[true],[true],[true],[true],[false],[true],[false],[true],[true],[true],[true],[false],[true],[true],[false],[false],[false],[true],[true],[false],[true],[false],[true],[true],[true],[true],[true],[true],[true],[false],[true],[true],[false],[false],[false],[true],[false],[true],[true],[true],[false],[false],[true],[true],[true],[false],[true],[false],[true],[true],[true],[true],[true],[true],[true],[false],[true],[true],[true],[true],[true],[true],[true],[true],[true],[false],[true],[true],[false],[true],[true],[false],[true],[false],[true],[false],[false],[false],[true],[true],[true],[true],[false],[true],[true],[true],[true],[true],[true],[true],[false],[true],[false],[true],[true],[true],[false],[false],[true],[true],[true],[true],[true],[false],[true],[true],[true],[true],[true],[true],[false],[false],[false],[true],[true],[false],[true],[true],[false],[true],[false],[false],[true],[true],[true],[false],[false],[true],[true],[true],[true],[true],[true],[true],[true],[false],[false],[false],[false],[true],[true],[true],[true]],\"hovertemplate\":\"Pclass=3\\u003cbr\\u003eAge=%{x}\\u003cbr\\u003eFare=%{y}\\u003cbr\\u003eSex_male=%{customdata[0]}\\u003cbr\\u003eSurvived=%{marker.color}\\u003cextra\\u003e\\u003c\\u002fextra\\u003e\",\"legendgroup\":\"\",\"marker\":{\"color\":{\"dtype\":\"i1\",\"bdata\":\"AAEAAQABAQAAAAEBAAAAAAEBAAEBAAAAAAAAAQAAAAAAAAEBAQABAAEAAAABAQEBAAAAAAEAAAABAAAAAAEBAAABAAAAAQABAAABAAAAAAEAAQAAAAABAAABAQEAAAEAAQAAAAAAAAABAAABAQEAAQAAAAEBAAAAAQABAAAAAAAAAAEAAAAAAAAAAAABAAABAAABAAEAAQEBAAAAAAEAAAAAAAAAAQABAAAAAQEAAAAAAAEAAAAAAAABAQEAAAEAAAEAAQEAAAABAQAAAAAAAAAAAQEBAQAAAAA=\"},\"coloraxis\":\"coloraxis\",\"symbol\":\"circle\"},\"mode\":\"markers\",\"name\":\"\",\"orientation\":\"v\",\"showlegend\":false,\"x\":{\"dtype\":\"f8\",\"bdata\":\"AAAAAABAQUAAAAAAAIBHQAAAAAAAADtAAAAAAAAANkAAAAAAAAAsQAAAAAAAAD5AAAAAAAAAMkAAAAAAAAA1QAAAAAAAADhAAAAAAAAANUAAAAAAAAA7QAAAAAAAgEZAAAAAAAAAIkAAAAAAAABJQAAAAAAAgDZAAAAAAAAAOEAAAAAAAIBAQAAAAAAAADZAAAAAAACAMkAAAAAAAAA2QAAAAAAAADVAAAAAAAAAOUAAAAAAAAA4QAAAAAAAgENAAAAAAACAREAAAAAAAAA5QAAAAAAAADhAAAAAAAAAQkAAAAAAAAAkQAAAAAAAgEFAAAAAAAAAOUAAAAAAAAA4QAAAAAAAADFAAAAAAAAAMkAAAAAAAAA2QAAAAAAAADJAAAAAAAAAOEAAAAAAAAA1QAAAAAAAAD1AAAAAAAAAOEAAAAAAAAA4QAAAAAAAABhAAAAAAAAAOEAAAAAAAAA4QAAAAAAAADtAAAAAAAAAMkAAAAAAAAA2QAAAAAAAADZAAAAAAAAAOEAAAAAAAAA4QAAAAAAAADlAAAAAAAAAPUAAAAAAAAA0QAAAAAAAgEBAAAAAAAAAOEAAAAAAAAA6QAAAAAAAADBAAAAAAAAAPEAAAAAAAAA1QAAAAAAAADhAAAAAAAAAOEAAAAAAAAA2QAAAAAAAgDJAAAAAAAAAMkAAAAAAAAA4QAAAAAAAAPA\\u002fAAAAAAAAOEAAAAAAAAA8QAAAAAAAADhAAAAAAAAAMUAAAAAAAAA2QAAAAAAAADZAAAAAAAAAOEAAAAAAAABAQAAAAAAAADZAAAAAAAAAOEAAAAAAAIBFQAAAAAAAADhAAAAAAACAOkAAAAAAAAA3QAAAAAAAAERAAAAAAAAAJEAAAAAAAAA\\u002fQAAAAAAAADZAAAAAAAAAOEAAAAAAAEBOQAAAAAAAAEJAAAAAAAAAKkAAAAAAAAA4QAAAAAAAADdAAAAAAAAAOkAAAAAAAAA2QAAAAAAAABxAAAAAAAAAOEAAAAAAAAA6QAAAAAAAADJAAAAAAAAANkAAAAAAAAA4QAAAAAAAADtAAAAAAAAAN0AAAAAAAAA4QAAAAAAAAERAAAAAAAAAOEAAAAAAAAAxQAAAAAAAADZAAAAAAAAAJ0AAAAAAAIBAQAAAAAAAADJAAAAAAAAANkAAAAAAAAA2QB+F61G4HtU\\u002fAAAAAACAQUAAAAAAAAA5QAAAAAAAAEBAAAAAAAAAOEAAAAAAAABDQAAAAAAAADZAAAAAAAAAOEAAAAAAAAA1QAAAAAAAADVAAAAAAAAANkAAAAAAAAA3QAAAAAAAADZAAAAAAABAREAAAAAAAAA1QAAAAAAAADhAAAAAAAAANEAAAAAAAAA0QAAAAAAAADhAAAAAAAAAOEAAAAAAAAA2QAAAAAAAADRAAAAAAAAAOEAAAAAAAEBAQAAAAAAAADhAAAAAAAAAOEAAAAAAAAA8QAAAAAAAADVAAAAAAABAQkAAAAAAAAA1QAAAAAAAAPA\\u002fAAAAAAAAOEAAAAAAAAA4QAAAAAAAADZAAAAAAAAAMUAAAAAAAAA4QAAAAAAAADZAAAAAAAAAOEAAAAAAAAA3QAAAAAAAAOg\\u002fAAAAAAAANkAAAAAAAAAiQAAAAAAAAABAAAAAAAAAQkAAAAAAAAA4QAAAAAAAADhAAAAAAAAAOEAAAAAAAAA+QAAAAAAAADhAAAAAAAAAQkAAAAAAAAA6QAAAAAAAADhAAAAAAAAAPUAAAAAAAABAQAAAAAAAADhAAAAAAAAANkCPwvUoXI\\u002fqPwAAAAAAgEZAAAAAAAAAMkAAAAAAAAA2QAAAAAAAADhAAAAAAACAQkAAAAAAAAAxQAAAAAAAADtAAAAAAAAAOkAAAAAAAAA5QAAAAAAAADdAAAAAAAAAOEAAAAAAAAAzQAAAAAAAADtAAAAAAACAQ0AAAAAAAAA4QAAAAAAAAEBAAAAAAAAAOEAAAAAAAAA4QAAAAAAAADBAAAAAAAAAQ0DD9Shcj8LFPwAAAAAAADhAAAAAAAAAOEAAAAAAAAA+QAAAAAAAAC1AAAAAAAAAO0AAAAAAAAA2QAAAAAAAADhAAAAAAAAANkAAAAAAAAA2QAAAAAAAABRAAAAAAAAAOEAAAAAAAAA6QAAAAAAAADZAAAAAAAAAM0AAAAAAAAA4QAAAAAAAADVAAAAAAAAAGEAAAAAAAAAqQAAAAAAAAD1AAAAAAAAAOEAAAAAAAAA2QAAAAAAAAD9AAAAAAAAANkAAAAAAAAAIQAAAAAAAADZAAAAAAAAAPEAAAAAAAAA4QAAAAAAAQENAAAAAAAAAOEAAAAAAAAA4QA==\"},\"xaxis\":\"x\",\"y\":{\"dtype\":\"f8\",\"bdata\":\"cF8HzhlRH0AAAAAAAAAcQDMzMzMzUyFAMzMzMzOTKEAzMzMzM3MiQKOSOgFNhB5ACfmgZ7PqHEBmZmZmZiY4QPcGX5hMlR9AZmZmZmbmHEAzMzMzM7MfQGZmZmZm5hxAIEHxY8xdCUAAAAAAAAAtQGZmZmZm5hxAdnEbDeCtNUAzMzMzM5M0QDMzMzMzczdACfmgZ7PqHECamZmZmRkgQDMzMzMzUyFAAAAAAAAAI0Csrdhfdj9MQIV80LNZ1SpAZmZmZmZmH0AzMzMzM7MfQAAAAAAAAB9AzczMzMzML0AAAAAAACA9QPcGX5hMlR9AmpmZmZmZHkCamZmZmRkwQPcGX5hMlR9AAAAAAAAAH0BmZmZmZuYeQKOSOgFNhB9AAAAAAAAAH0D3Bl+YTJUfQDMzMzMzsx9AmpmZmZkZIEAAAAAAAAAfQK62Yn\\u002fZfS5A9wZfmEyVH0C4rwPnjOgsQKOSOgFNhB9AmpmZmZkZIEAAAAAAAAAfQM3MzMzMzCtAmpmZmZkZH0CamZmZmRkgQJCg+DHmLh9AMzMzMzOzH0AJ+aBns2ofQJqZmZmZGSBAAAAAAAAAH0CamZmZmRkfQLivA+eMCCFAZmZmZmaGNkAqOpLLf0gfQAAAAAAAAB9AzczMzMxsIUA9LNSa5h0fQMPTK2UZIh1AuK8D54zoLEAAAAAAAMAZQDMzMzMzszBAAAAAAAAAH0AAAAAAAAAdQAAAAAAAAB9AmpmZmZkZMECQoPgx5i4fQAAAAAAAQDdAmpmZmZkZIECamZmZmRkgQA8LtaZ5dzlAAAAAAADAGUD3Bl+YTJUfQAn5oGezah9AZmZmZmbmHECamZmZmRkgQDMzMzMzc0dAMzMzMzNzR0AAAAAAAAAyQJqZmZmZGSBA9wZfmEyVH0D3Bl+YTJUfQK62Yn\\u002fZXShAMzMzMzNjP0AzMzMzMzMeQAn5oGezah9AzczMzMyMK0CQoPgx5u4eQK62Yn\\u002fZfS5AAAAAAAAAHEBmZmZmZgY2QAAAAAAAMEFAzczMzMzsIUAzMzMzMzMeQGZmZmZm5hxAzczMzMzMK0AJ+aBns+ocQDMzMzMzYz9AAAAAAAAAH0CamZmZmRkgQDMzMzMzY1FAAAAAAAAALUAJ+aBns2ofQJqZmZmZGR9AmpmZmZk5IEAAAAAAAAAvQM3MzMzMzCxAAAAAAAAAH0D3Bl+YTJUfQGZmZmZmhjZAMzMzMzMzHECamZmZmRkfQKOSOgFNhB9AmpmZmZkZIECamZmZmRkgQJCg+DHmLh9ArrZif9l9LkCQoPgx5i4fQAAAAAAAAB9AMzMzMzMzLkBdbcX+svsZQKOSOgFNhB9ACfmgZ7NqH0BmZmZmZuYcQM3MzMzMjB9AMzMzMzNzN0C4rwPnjOgsQDMzMzMzsx9AZmZmZmamIkAAAAAAAAAjQDMzMzMzMx5AAAAAAAAAH0CamZmZmRkgQJqZmZmZGR9AZmZmZmZmMUAJ+aBns2ofQK62Yn\\u002fZXShA9wZfmEyVH0AzMzMzMzMeQJqZmZmZGSBAMzMzMzNTIUAAAAAAAAAfQAAAAAAAAC9AZmZmZmbmHEAzMzMzM1MhQM3MzMzMjCtAAAAAAAAAH0CutmJ\\u002f2X0uQGZmZmZmNjRAAAAAAAAAHUAAAAAAAAAdQAn5oGez6hxAmpmZmZkZIEDNzMzMzMwbQAn5oGez6hxAAAAAAAAAI0D3Bl+YTJUfQHZxGw3grTVACfmgZ7NqH0CamZmZmRkfQDMzMzMzUyFAAAAAAAAAH0AzMzMzM7MiQEhQ\\u002fBhzNyxAMzMzMzNTIUBmZmZmZuYcQM3MzMzMTB5AAAAAAAAAH0CQoPgx5u4eQAn5oGezah9AmpmZmZkZH0AJ+aBns+ocQDMzMzMzMxxAZmZmZmbmHEDr4jYawHsvQPcGX5hMlR9ACfmgZ7PqHEAJ+aBns+ocQHBfB84ZUR5AMzMzMzNjUUAAAAAAAAAtQJqZmZmZmR5ACfmgZ7PqHEAzMzMzM5M0QKOSOgFNhB9AAAAAAAAAH0CamZmZmRkvQDMzMzMzY1FAMzMzMzNTIUAzMzMzM2NRQHuDL0ym6ixAAAAAAADYQ0AzMzMzM1MhQDMzMzMzYz9AAAAAAAAAH0CjkjoBTYQfQAAAAAAAAC1AmpmZmZkZMECamZmZmRkfQAAAAAAAAB9AMzMzMzMTNUAAAAAAAEA0QGZmZmZmBjZAAAAAAAAAHUCamZmZmRkfQJCg+DHm7h5Aw9MrZRniHkDNzMzMzIwrQAAAAAAAAB9AmpmZmZkZH0CamZmZmRkgQAAAAAAAAB1AmpmZmZkZIEAkKH6MuVs2QA==\"},\"yaxis\":\"y\",\"type\":\"scatter\"},{\"customdata\":[[true],[true],[true],[false],[true],[true],[true],[false],[true],[false],[true],[true],[false],[true],[true],[true],[true],[true],[true],[false],[false],[true],[true],[true],[true],[false],[true],[false],[false],[false],[true],[true],[false],[true],[true],[true],[true],[true],[false],[true],[true],[true],[false],[false],[false],[true],[true],[false],[false],[false],[true],[false],[false],[false],[false],[true],[false],[true],[true],[true],[true],[false],[true],[true],[true],[true],[true],[false],[true],[true],[false],[true],[true],[true],[true],[true],[false],[true],[true],[true],[false],[false],[true],[true],[true],[true],[true],[false],[true],[true],[true],[true],[true]],\"hovertemplate\":\"Pclass=2\\u003cbr\\u003eAge=%{x}\\u003cbr\\u003eFare=%{y}\\u003cbr\\u003eSex_male=%{customdata[0]}\\u003cbr\\u003eSurvived=%{marker.color}\\u003cextra\\u003e\\u003c\\u002fextra\\u003e\",\"legendgroup\":\"\",\"marker\":{\"color\":{\"dtype\":\"i1\",\"bdata\":\"AAAAAQAAAAEAAQAAAQAAAAAAAAEBAAAAAAEAAQEBAAABAAAAAAABAAAAAQEBAAABAQEAAQEBAQABAAAAAAEAAAAAAAEAAAEAAAAAAAEAAAABAQAAAAAAAQAAAAAA\"},\"coloraxis\":\"coloraxis\",\"symbol\":\"circle\"},\"mode\":\"markers\",\"name\":\"\",\"orientation\":\"v\",\"showlegend\":false,\"x\":{\"dtype\":\"f8\",\"bdata\":\"AAAAAAAAT0AAAAAAAAA6QAAAAAAAgE9AAAAAAAAAOEAAAAAAAIBBQAAAAAAAAElAAAAAAAAAOEAAAAAAAAA+QAAAAAAAADtAAAAAAAAANEAAAAAAAAA8QAAAAAAAAEBAAAAAAAAAOEAAAAAAAAA+QAAAAAAAADxAAAAAAAAAAEAAAAAAAAA7QAAAAAAAgDJAAAAAAACAREAAAAAAAAA9QAAAAAAAAChAAAAAAAAARUAAAAAAAAA6QAAAAAAAADxAAAAAAAAAPkAAAAAAAAA6QAAAAAAAgERAAAAAAAAALkAAAAAAAAA0QAAAAAAAAEJAAAAAAAAAPkAAAAAAAABEQAAAAAAAADVAAAAAAAAAREAAAAAAAABBQAAAAAAAgE5AAAAAAAAAIEAAAAAAAAA3QAAAAAAAACBAAAAAAAAAOUAAAAAAAAA4QAAAAAAAADFAAAAAAAAATkAAAAAAAAA+QAAAAAAAADZAAAAAAAAAQkAAAAAAAAAsQAAAAAAAADJAAAAAAACARkAAAAAAAAA2QAAAAAAAAEVAAAAAAAAAPUBxPQrXo3DtPwAAAAAAADNAAAAAAAAAPUAAAAAAAAA+QAAAAAAAADRAAAAAAAAAPEAAAAAAAABEQAAAAAAAAD5AAAAAAAAANkAAAAAAAADwPwAAAAAAADxAAAAAAACARUAAAAAAAAAzQAAAAAAAADZAAAAAAAAAOkAAAAAAAAAoQAAAAAAAAD1AAAAAAAAANUAAAAAAAABIQAAAAAAAAEBAAAAAAAAAOUAAAAAAAAAyQAAAAAAAADpAAAAAAAAAOEAAAAAAAAA\\u002fQAAAAAAAADlAAAAAAAAAMkAAAAAAAIBIQAAAAAAAADhAAAAAAAAAP0AAAAAAAAA9QAAAAAAAADVAAAAAAAAARkAAAAAAAAA1QAAAAAAAADxAAAAAAAAAOEAAAAAAAIBMQAAAAAAAgEdAAAAAAAAAQ0AAAAAAAAA0QAAAAAAAADdA\"},\"xaxis\":\"x2\",\"y\":{\"dtype\":\"f8\",\"bdata\":\"AAAAAABgI0AAAAAAAAA9QAAAAAAAADpA8fRKWYa4O0AzMzMzM7MoQAAAAAAAADpAAAAAAACAP0AAAAAAAAAqQOLplbIMES5AAAAAAAAAN0C4rwPnjCgvQAAAAAAAACtAAAAAAAAANUAAAAAAAAAqQHuDL0ymaiVAAAAAAAAAN0AAAAAAAAA6QAAAAAAAACpASFD8GHMXLkAAAAAAAAA6QAAAAAAAgC9AAAAAAAAAKkAAAAAAAAAqQAAAAAAAADpAAAAAAAAAOkAAAAAAAAArQAAAAAAAACpAAAAAAACAQ0AAAAAAAGBCQAAAAAAAgENAAAAAAAAAKkAAAAAAAAAwQAAAAAAAADVAAAAAAAAAKkAAAAAAAAA6QDMzMzMzsyhAAAAAAABAQEAAAAAAAAAlQAAAAAAAADpAAAAAAAAAJUAAAAAAAAAlQAAAAAAAYFJAAAAAAAAAOkBIUPwYc7crQAAAAAAAACVAAAAAAAAAKkAAAAAAAEBQQAAAAAAAACpAAAAAAAAAPkAAAAAAAAA1QAAAAAAAQEBAAAAAAAAAOkAAAAAAAMA7QAAAAAAAACpAAAAAAAAAN0CamZmZmXkpQAAAAAAAADpAAAAAAAAAJUAAAAAAAAA6QAAAAAAAADVAAAAAAAAAJUDu68A5I8pEQEhQ\\u002fBhzFy5AAAAAAAAANUAAAAAAAAAlQAAAAAAAgD9AAAAAAAAAKkAAAAAAAIBDQAAAAAAAADpAAAAAAAAAKkAAAAAAAGBCQAAAAAAAACpAAAAAAACAP0AAAAAAAAAlQAAAAAAAACpAAAAAAAAAK0AAAAAAAAA1QAAAAAAAACVAAAAAAABgUkAAAAAAAEBQQFRSJ6CJgEJAAAAAAAAANUBIUPwYc7crQAAAAAAAACdAAAAAAAAAKkAAAAAAAAAnQAAAAAAAwClAAAAAAABAUEAAAAAAAAAqQAAAAAAAACVAAAAAAAAANUCamZmZmbkrQAAAAAAAACVA\"},\"yaxis\":\"y2\",\"type\":\"scatter\"},{\"customdata\":[[true],[false],[false],[true],[false],[true],[false],[false],[true],[true],[true],[false],[true],[false],[true],[false],[false],[true],[true],[true],[false],[true],[false],[true],[false],[true],[true],[false],[true],[false],[false],[false],[false],[true],[false],[true],[false],[true],[true],[true],[true],[false],[false],[true],[true],[false],[true],[false],[true],[false],[false],[true],[true],[true],[true],[false],[true],[true],[false],[false],[false],[true],[true],[false],[false],[true],[true],[true],[true],[true],[false],[true],[true],[true],[true],[false],[true],[true],[false],[true],[true],[false],[true],[true],[true],[false],[false],[true],[false],[false],[false],[false],[true],[false],[false],[true],[true],[false],[false],[false],[false],[false],[true],[true],[true],[false],[false]],\"hovertemplate\":\"Pclass=1\\u003cbr\\u003eAge=%{x}\\u003cbr\\u003eFare=%{y}\\u003cbr\\u003eSex_male=%{customdata[0]}\\u003cbr\\u003eSurvived=%{marker.color}\\u003cextra\\u003e\\u003c\\u002fextra\\u003e\",\"legendgroup\":\"\",\"marker\":{\"color\":{\"dtype\":\"i1\",\"bdata\":\"AAEBAAEAAQEAAAABAAEAAQEAAAABAAEAAQAAAQABAQEBAAEAAQAAAAABAQAAAQABAAEBAAAAAAEAAAEBAQAAAQEAAAAAAAEAAAAAAQAAAQAAAQAAAAEBAAEBAQEAAQEAAAEBAQEBAAAAAQE=\"},\"coloraxis\":\"coloraxis\",\"symbol\":\"circle\"},\"mode\":\"markers\",\"name\":\"\",\"orientation\":\"v\",\"showlegend\":false,\"x\":{\"dtype\":\"f8\",\"bdata\":\"AAAAAAAAR0AAAAAAAAA3QAAAAAAAgEdAAAAAAACAS0AAAAAAAIBEQAAAAAAAADVAAAAAAAAASEAAAAAAAAA2QAAAAAAAgERAAAAAAAAAPkAAAAAAAABFQAAAAAAAgEZAAAAAAACARkAAAAAAAABOQAAAAAAAADhAAAAAAAAAPEAAAAAAAABCQAAAAAAAACpAAAAAAACAR0AAAAAAAAA\\u002fQAAAAAAAAE5AAAAAAACAPEAAAAAAAIBBQAAAAAAAQEBAAAAAAACAS0AAAAAAAMBQQAAAAAAAgEhAAAAAAAAAO0AAAAAAAAA5QAAAAAAAAFNAAAAAAACARUAAAAAAAABCQAAAAAAAgE9AAAAAAAAAQkAAAAAAAIBBQAAAAAAAgEpAAAAAAACAQEAAAAAAAIBOQAAAAAAAAEVAAAAAAAAARUAAAAAAAABFQAAAAAAAADdAAAAAAAAAPUAAAAAAAABFQAAAAAAAAEhAAAAAAACAREAAAAAAAABLQAAAAAAAAFBAAAAAAACAQkAAAAAAAAAyQAAAAAAAADtAAAAAAAAARUAAAAAAAAAYQAAAAAAAgEdAAAAAAAAARUAAAAAAAIBAQAAAAAAAAEVAAAAAAACATEAAAAAAAABJQAAAAAAAgEpAAAAAAAAANUAAAAAAAIBDQAAAAAAAAFBAAAAAAAAASEAAAAAAAIBLQAAAAAAAgEZAAAAAAACAREAAAAAAAAA7QAAAAAAAAEVAAAAAAAAAR0AAAAAAAAA6QAAAAAAAADhAAAAAAAAARUAAAAAAAIBKQAAAAAAAAD5AAAAAAAAAUEAAAAAAAAA+QAAAAAAAgEtAAAAAAACAS0AAAAAAAIBMQAAAAAAAgEBAAAAAAACAQ0AAAAAAAABHQAAAAAAAgENAAAAAAAAAPkAAAAAAAABNQAAAAAAAgEZAAAAAAAAASUAAAAAAAIBNQAAAAAAAADlAAAAAAACARkAAAAAAAAA\\u002fQAAAAAAAgEhAAAAAAAAAS0AAAAAAAIBGQAAAAAAAgEtAAAAAAAAAN0AAAAAAAIBJQAAAAAAAADJAAAAAAAAASEAAAAAAAAA+QAAAAAAAADZAAAAAAAAAMUAAAAAAAIBFQAAAAAAAAElAAAAAAACAQkAAAAAAAIBDQA==\"},\"xaxis\":\"x3\",\"y\":{\"dtype\":\"f8\",\"bdata\":\"AAAAAAAAOkD3deCcEZFUQGZmZmZmlk5AMzMzMzOzTUBXW7G\\u002f7K4\\u002fQFRSJ6CJsE5AAAAAAABmcEAhH\\u002fRsVv1OQAAAAAAAgD5AAAAAAADgTEDNzMzMzIw6QLu4jQbwRkpAMzMzMzOzPUCRD3o2qxJTQAAAAAAAAE5AAAAAAABwcEAAAAAAAGZwQAAAAAAAZnBAMzMzMzMzRUCamZmZmYk8QAAAAAAAcHBA8fRKWYa4O0AAAAAAAHBqQAAAAAAAcGpAMzMzMzOzOUBiodY077hrQAAAAAAAADpAAAAAAAAASkAAAAAAAAA6QGZmZmZmtlNAVFInoIm4S0B2cRsN4K0\\u002fQGKh1jTvuGtAXdxGA3jPUkAAAAAAAOBMQAAAAAAAgDxAmpmZmZnxYkAAAAAAAGZwQM3MzMzMjDpAZmZmZmbuSUDNzMzMzIw6QDy9UpYhylRAYqHWNO+4a0DNzMzMzIw6QKyt2F92P0lA8fRKWYa4O0BUUiegibhLQDy9UpYhylRAPL1SliHKVEDNzMzMzIxKQDj4wmSq8G5AAAAAAAAAOkAAAAAAANBgQM3MzMzMcGxAdnEbDeC9OUDx9EpZhrg7QAAAAAAAQEVAL26jAbybZEAAAAAAAHBqQIqO5PIfcjtAzczMzMyMOkA8vVKWIdJRQAAAAAAA0FJAMzMzMzObWkDx9EpZhrg7QAAAAAAA0GBAZmZmZmbuSUBiodY07xhhQAAAAAAAAAAAXdxGA3jPUkBiodY07xhhQPd14JwRkVRAzczMzMzMQ0AJih9j7nZUQAAAAAAAwEZAzczMzMyMOkCamZmZmfFiQAAAAAAAYFdA0ZFc\\u002fkP0YEA4+MJkqlBiQM3MzMzMjDpAzczMzMxqakDNzMzMzMxTQDMzMzMzsz1AAAAAAAAAOkC\\u002fDpwzogKAQBIUP8bcrU9AAAAAAAAAOkAhH\\u002fRsVr1JQFRSJ6CJuEtAMzMzMzOzTUAAAAAAANBgQAAAAAAAAAAACYofY+52VEAAAAAAAGZwQAAAAAAAAElAAAAAAABgV0AzMzMzM7NDQAAAAAAAAE5AzczMzMzMU0AvbqMBvJtkQDMzMzMzs01AzczMzMyMR0Dx9EpZhrg7QAAAAAAAcGpAAAAAAACAVkCamZmZmTlbQA==\"},\"yaxis\":\"y3\",\"type\":\"scatter\"}],                        {\"template\":{\"data\":{\"histogram2dcontour\":[{\"type\":\"histogram2dcontour\",\"colorbar\":{\"outlinewidth\":0,\"ticks\":\"\"},\"colorscale\":[[0.0,\"#0d0887\"],[0.1111111111111111,\"#46039f\"],[0.2222222222222222,\"#7201a8\"],[0.3333333333333333,\"#9c179e\"],[0.4444444444444444,\"#bd3786\"],[0.5555555555555556,\"#d8576b\"],[0.6666666666666666,\"#ed7953\"],[0.7777777777777778,\"#fb9f3a\"],[0.8888888888888888,\"#fdca26\"],[1.0,\"#f0f921\"]]}],\"choropleth\":[{\"type\":\"choropleth\",\"colorbar\":{\"outlinewidth\":0,\"ticks\":\"\"}}],\"histogram2d\":[{\"type\":\"histogram2d\",\"colorbar\":{\"outlinewidth\":0,\"ticks\":\"\"},\"colorscale\":[[0.0,\"#0d0887\"],[0.1111111111111111,\"#46039f\"],[0.2222222222222222,\"#7201a8\"],[0.3333333333333333,\"#9c179e\"],[0.4444444444444444,\"#bd3786\"],[0.5555555555555556,\"#d8576b\"],[0.6666666666666666,\"#ed7953\"],[0.7777777777777778,\"#fb9f3a\"],[0.8888888888888888,\"#fdca26\"],[1.0,\"#f0f921\"]]}],\"heatmap\":[{\"type\":\"heatmap\",\"colorbar\":{\"outlinewidth\":0,\"ticks\":\"\"},\"colorscale\":[[0.0,\"#0d0887\"],[0.1111111111111111,\"#46039f\"],[0.2222222222222222,\"#7201a8\"],[0.3333333333333333,\"#9c179e\"],[0.4444444444444444,\"#bd3786\"],[0.5555555555555556,\"#d8576b\"],[0.6666666666666666,\"#ed7953\"],[0.7777777777777778,\"#fb9f3a\"],[0.8888888888888888,\"#fdca26\"],[1.0,\"#f0f921\"]]}],\"contourcarpet\":[{\"type\":\"contourcarpet\",\"colorbar\":{\"outlinewidth\":0,\"ticks\":\"\"}}],\"contour\":[{\"type\":\"contour\",\"colorbar\":{\"outlinewidth\":0,\"ticks\":\"\"},\"colorscale\":[[0.0,\"#0d0887\"],[0.1111111111111111,\"#46039f\"],[0.2222222222222222,\"#7201a8\"],[0.3333333333333333,\"#9c179e\"],[0.4444444444444444,\"#bd3786\"],[0.5555555555555556,\"#d8576b\"],[0.6666666666666666,\"#ed7953\"],[0.7777777777777778,\"#fb9f3a\"],[0.8888888888888888,\"#fdca26\"],[1.0,\"#f0f921\"]]}],\"surface\":[{\"type\":\"surface\",\"colorbar\":{\"outlinewidth\":0,\"ticks\":\"\"},\"colorscale\":[[0.0,\"#0d0887\"],[0.1111111111111111,\"#46039f\"],[0.2222222222222222,\"#7201a8\"],[0.3333333333333333,\"#9c179e\"],[0.4444444444444444,\"#bd3786\"],[0.5555555555555556,\"#d8576b\"],[0.6666666666666666,\"#ed7953\"],[0.7777777777777778,\"#fb9f3a\"],[0.8888888888888888,\"#fdca26\"],[1.0,\"#f0f921\"]]}],\"mesh3d\":[{\"type\":\"mesh3d\",\"colorbar\":{\"outlinewidth\":0,\"ticks\":\"\"}}],\"scatter\":[{\"fillpattern\":{\"fillmode\":\"overlay\",\"size\":10,\"solidity\":0.2},\"type\":\"scatter\"}],\"parcoords\":[{\"type\":\"parcoords\",\"line\":{\"colorbar\":{\"outlinewidth\":0,\"ticks\":\"\"}}}],\"scatterpolargl\":[{\"type\":\"scatterpolargl\",\"marker\":{\"colorbar\":{\"outlinewidth\":0,\"ticks\":\"\"}}}],\"bar\":[{\"error_x\":{\"color\":\"#2a3f5f\"},\"error_y\":{\"color\":\"#2a3f5f\"},\"marker\":{\"line\":{\"color\":\"#E5ECF6\",\"width\":0.5},\"pattern\":{\"fillmode\":\"overlay\",\"size\":10,\"solidity\":0.2}},\"type\":\"bar\"}],\"scattergeo\":[{\"type\":\"scattergeo\",\"marker\":{\"colorbar\":{\"outlinewidth\":0,\"ticks\":\"\"}}}],\"scatterpolar\":[{\"type\":\"scatterpolar\",\"marker\":{\"colorbar\":{\"outlinewidth\":0,\"ticks\":\"\"}}}],\"histogram\":[{\"marker\":{\"pattern\":{\"fillmode\":\"overlay\",\"size\":10,\"solidity\":0.2}},\"type\":\"histogram\"}],\"scattergl\":[{\"type\":\"scattergl\",\"marker\":{\"colorbar\":{\"outlinewidth\":0,\"ticks\":\"\"}}}],\"scatter3d\":[{\"type\":\"scatter3d\",\"line\":{\"colorbar\":{\"outlinewidth\":0,\"ticks\":\"\"}},\"marker\":{\"colorbar\":{\"outlinewidth\":0,\"ticks\":\"\"}}}],\"scattermap\":[{\"type\":\"scattermap\",\"marker\":{\"colorbar\":{\"outlinewidth\":0,\"ticks\":\"\"}}}],\"scattermapbox\":[{\"type\":\"scattermapbox\",\"marker\":{\"colorbar\":{\"outlinewidth\":0,\"ticks\":\"\"}}}],\"scatterternary\":[{\"type\":\"scatterternary\",\"marker\":{\"colorbar\":{\"outlinewidth\":0,\"ticks\":\"\"}}}],\"scattercarpet\":[{\"type\":\"scattercarpet\",\"marker\":{\"colorbar\":{\"outlinewidth\":0,\"ticks\":\"\"}}}],\"carpet\":[{\"aaxis\":{\"endlinecolor\":\"#2a3f5f\",\"gridcolor\":\"white\",\"linecolor\":\"white\",\"minorgridcolor\":\"white\",\"startlinecolor\":\"#2a3f5f\"},\"baxis\":{\"endlinecolor\":\"#2a3f5f\",\"gridcolor\":\"white\",\"linecolor\":\"white\",\"minorgridcolor\":\"white\",\"startlinecolor\":\"#2a3f5f\"},\"type\":\"carpet\"}],\"table\":[{\"cells\":{\"fill\":{\"color\":\"#EBF0F8\"},\"line\":{\"color\":\"white\"}},\"header\":{\"fill\":{\"color\":\"#C8D4E3\"},\"line\":{\"color\":\"white\"}},\"type\":\"table\"}],\"barpolar\":[{\"marker\":{\"line\":{\"color\":\"#E5ECF6\",\"width\":0.5},\"pattern\":{\"fillmode\":\"overlay\",\"size\":10,\"solidity\":0.2}},\"type\":\"barpolar\"}],\"pie\":[{\"automargin\":true,\"type\":\"pie\"}]},\"layout\":{\"autotypenumbers\":\"strict\",\"colorway\":[\"#636efa\",\"#EF553B\",\"#00cc96\",\"#ab63fa\",\"#FFA15A\",\"#19d3f3\",\"#FF6692\",\"#B6E880\",\"#FF97FF\",\"#FECB52\"],\"font\":{\"color\":\"#2a3f5f\"},\"hovermode\":\"closest\",\"hoverlabel\":{\"align\":\"left\"},\"paper_bgcolor\":\"white\",\"plot_bgcolor\":\"#E5ECF6\",\"polar\":{\"bgcolor\":\"#E5ECF6\",\"angularaxis\":{\"gridcolor\":\"white\",\"linecolor\":\"white\",\"ticks\":\"\"},\"radialaxis\":{\"gridcolor\":\"white\",\"linecolor\":\"white\",\"ticks\":\"\"}},\"ternary\":{\"bgcolor\":\"#E5ECF6\",\"aaxis\":{\"gridcolor\":\"white\",\"linecolor\":\"white\",\"ticks\":\"\"},\"baxis\":{\"gridcolor\":\"white\",\"linecolor\":\"white\",\"ticks\":\"\"},\"caxis\":{\"gridcolor\":\"white\",\"linecolor\":\"white\",\"ticks\":\"\"}},\"coloraxis\":{\"colorbar\":{\"outlinewidth\":0,\"ticks\":\"\"}},\"colorscale\":{\"sequential\":[[0.0,\"#0d0887\"],[0.1111111111111111,\"#46039f\"],[0.2222222222222222,\"#7201a8\"],[0.3333333333333333,\"#9c179e\"],[0.4444444444444444,\"#bd3786\"],[0.5555555555555556,\"#d8576b\"],[0.6666666666666666,\"#ed7953\"],[0.7777777777777778,\"#fb9f3a\"],[0.8888888888888888,\"#fdca26\"],[1.0,\"#f0f921\"]],\"sequentialminus\":[[0.0,\"#0d0887\"],[0.1111111111111111,\"#46039f\"],[0.2222222222222222,\"#7201a8\"],[0.3333333333333333,\"#9c179e\"],[0.4444444444444444,\"#bd3786\"],[0.5555555555555556,\"#d8576b\"],[0.6666666666666666,\"#ed7953\"],[0.7777777777777778,\"#fb9f3a\"],[0.8888888888888888,\"#fdca26\"],[1.0,\"#f0f921\"]],\"diverging\":[[0,\"#8e0152\"],[0.1,\"#c51b7d\"],[0.2,\"#de77ae\"],[0.3,\"#f1b6da\"],[0.4,\"#fde0ef\"],[0.5,\"#f7f7f7\"],[0.6,\"#e6f5d0\"],[0.7,\"#b8e186\"],[0.8,\"#7fbc41\"],[0.9,\"#4d9221\"],[1,\"#276419\"]]},\"xaxis\":{\"gridcolor\":\"white\",\"linecolor\":\"white\",\"ticks\":\"\",\"title\":{\"standoff\":15},\"zerolinecolor\":\"white\",\"automargin\":true,\"zerolinewidth\":2},\"yaxis\":{\"gridcolor\":\"white\",\"linecolor\":\"white\",\"ticks\":\"\",\"title\":{\"standoff\":15},\"zerolinecolor\":\"white\",\"automargin\":true,\"zerolinewidth\":2},\"scene\":{\"xaxis\":{\"backgroundcolor\":\"#E5ECF6\",\"gridcolor\":\"white\",\"linecolor\":\"white\",\"showbackground\":true,\"ticks\":\"\",\"zerolinecolor\":\"white\",\"gridwidth\":2},\"yaxis\":{\"backgroundcolor\":\"#E5ECF6\",\"gridcolor\":\"white\",\"linecolor\":\"white\",\"showbackground\":true,\"ticks\":\"\",\"zerolinecolor\":\"white\",\"gridwidth\":2},\"zaxis\":{\"backgroundcolor\":\"#E5ECF6\",\"gridcolor\":\"white\",\"linecolor\":\"white\",\"showbackground\":true,\"ticks\":\"\",\"zerolinecolor\":\"white\",\"gridwidth\":2}},\"shapedefaults\":{\"line\":{\"color\":\"#2a3f5f\"}},\"annotationdefaults\":{\"arrowcolor\":\"#2a3f5f\",\"arrowhead\":0,\"arrowwidth\":1},\"geo\":{\"bgcolor\":\"white\",\"landcolor\":\"#E5ECF6\",\"subunitcolor\":\"white\",\"showland\":true,\"showlakes\":true,\"lakecolor\":\"white\"},\"title\":{\"x\":0.05},\"mapbox\":{\"style\":\"light\"}}},\"xaxis\":{\"anchor\":\"y\",\"domain\":[0.0,0.31999999999999995],\"title\":{\"text\":\"Age\"}},\"yaxis\":{\"anchor\":\"x\",\"domain\":[0.0,1.0],\"title\":{\"text\":\"Fare\"}},\"xaxis2\":{\"anchor\":\"y2\",\"domain\":[0.33999999999999997,0.6599999999999999],\"matches\":\"x\",\"title\":{\"text\":\"Age\"}},\"yaxis2\":{\"anchor\":\"x2\",\"domain\":[0.0,1.0],\"matches\":\"y\",\"showticklabels\":false},\"xaxis3\":{\"anchor\":\"y3\",\"domain\":[0.6799999999999999,0.9999999999999999],\"matches\":\"x\",\"title\":{\"text\":\"Age\"}},\"yaxis3\":{\"anchor\":\"x3\",\"domain\":[0.0,1.0],\"matches\":\"y\",\"showticklabels\":false},\"annotations\":[{\"font\":{},\"showarrow\":false,\"text\":\"Pclass=3\",\"x\":0.15999999999999998,\"xanchor\":\"center\",\"xref\":\"paper\",\"y\":1.0,\"yanchor\":\"bottom\",\"yref\":\"paper\"},{\"font\":{},\"showarrow\":false,\"text\":\"Pclass=2\",\"x\":0.49999999999999994,\"xanchor\":\"center\",\"xref\":\"paper\",\"y\":1.0,\"yanchor\":\"bottom\",\"yref\":\"paper\"},{\"font\":{},\"showarrow\":false,\"text\":\"Pclass=1\",\"x\":0.8399999999999999,\"xanchor\":\"center\",\"xref\":\"paper\",\"y\":1.0,\"yanchor\":\"bottom\",\"yref\":\"paper\"}],\"coloraxis\":{\"colorbar\":{\"title\":{\"text\":\"Survived\"}},\"colorscale\":[[0.0,\"#0d0887\"],[0.1111111111111111,\"#46039f\"],[0.2222222222222222,\"#7201a8\"],[0.3333333333333333,\"#9c179e\"],[0.4444444444444444,\"#bd3786\"],[0.5555555555555556,\"#d8576b\"],[0.6666666666666666,\"#ed7953\"],[0.7777777777777778,\"#fb9f3a\"],[0.8888888888888888,\"#fdca26\"],[1.0,\"#f0f921\"]]},\"legend\":{\"tracegroupgap\":0},\"title\":{\"text\":\"Survival by Age, Fare and Class\"}},                        {\"responsive\": true}                    ).then(function(){\n",
       "                            \n",
       "var gd = document.getElementById('bd7fa5e7-3019-4488-b3a3-7ae8054b0b46');\n",
       "var x = new MutationObserver(function (mutations, observer) {{\n",
       "        var display = window.getComputedStyle(gd).display;\n",
       "        if (!display || display === 'none') {{\n",
       "            console.log([gd, 'removed!']);\n",
       "            Plotly.purge(gd);\n",
       "            observer.disconnect();\n",
       "        }}\n",
       "}});\n",
       "\n",
       "// Listen for the removal of the full notebook cells\n",
       "var notebookContainer = gd.closest('#notebook-container');\n",
       "if (notebookContainer) {{\n",
       "    x.observe(notebookContainer, {childList: true});\n",
       "}}\n",
       "\n",
       "// Listen for the clearing of the current output cell\n",
       "var outputEl = gd.closest('.output');\n",
       "if (outputEl) {{\n",
       "    x.observe(outputEl, {childList: true});\n",
       "}}\n",
       "\n",
       "                        })                };            </script>        </div>"
      ]
     },
     "metadata": {},
     "output_type": "display_data"
    },
    {
     "data": {
      "application/vnd.plotly.v1+json": {
       "config": {
        "plotlyServerURL": "https://plot.ly"
       },
       "data": [
        {
         "alignmentgroup": "True",
         "hovertemplate": "Survived=0<br>Pclass=%{x}<br>Fare=%{y}<extra></extra>",
         "legendgroup": "0",
         "marker": {
          "color": "#636efa"
         },
         "name": "0",
         "notched": false,
         "offsetgroup": "0",
         "orientation": "v",
         "showlegend": true,
         "type": "box",
         "x": {
          "bdata": "AwIDAwIDAwECAgMBAwEDAwEDAgIBAwMDAwEDAwEDAQICAwMDAwMCAwEBAQMBAQMCAwEBAwIDAgMDAQMDAwIDAwMDAwMCAgMDAQMDAwMCAwMBAwMDAwIDAQIBAwEDAQIDAwMDAQMDAgEDAwMDAwMBAgEDAgMCAgEDAgIDAQIDAQIBAgMDAwIBAQMDAwMDAgIDAwEDAQMBAwMBAgMBAwMDAwMDAwMCAwEDAwEDAwICAgIDAwMBAwMBAwEDAwMBAwMCAgMBAwEDAwMBAgMCAwMCAQMBAgIBAwMBAgMCAwIDAwMCAgICAgEDAwMDAwICAQICAQMDAwIDAgMDAQMCAwMDAwIBAQICAQMDAwM=",
          "dtype": "i1"
         },
         "x0": " ",
         "xaxis": "x",
         "y": {
          "bdata": "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",
          "dtype": "f8"
         },
         "y0": " ",
         "yaxis": "y"
        },
        {
         "alignmentgroup": "True",
         "hovertemplate": "Survived=1<br>Pclass=%{x}<br>Fare=%{y}<extra></extra>",
         "legendgroup": "1",
         "marker": {
          "color": "#EF553B"
         },
         "name": "1",
         "notched": false,
         "offsetgroup": "1",
         "orientation": "v",
         "showlegend": true,
         "type": "box",
         "x": {
          "bdata": "AwMDAwEBAgMDAQEBAwMDAwIBAQMCAQEDAgMBAwMBAQMDAwMDAQEDAQMDAQMBAwICAQMDAwMDAQEDAQMDAwIDAQMCAgIBAQECAwMDAwIDAQIDAwECAgEDAwECAQECAgIDAgICAwMBAwIDAwMDAwIDAQMDAQMBAgIDAQMDAgEDAQMCAgEDAwEBAQEDAwMCAQEBAQEDAwMBAwE=",
          "dtype": "i1"
         },
         "x0": " ",
         "xaxis": "x",
         "y": {
          "bdata": "AAAAAAAAHEAzMzMzM5MoQKOSOgFNhB5ACfmgZ7PqHED3deCcEZFUQGZmZmZmlk5A8fRKWYa4O0AzMzMzM7MfQGZmZmZm5hxAV1uxv+yuP0AAAAAAAGZwQCEf9GxW/U5AMzMzMzOTNEAzMzMzM3M3QJqZmZmZGSBAMzMzMzNTIUAAAAAAAAAqQLu4jQbwRkpAkQ96NqsSU0DNzMzMzMwvQAAAAAAAADdAAAAAAABwcEAAAAAAAGZwQGZmZmZm5h5AAAAAAAAANUCjkjoBTYQfQAAAAAAAcHBAAAAAAAAAH0AzMzMzM7MfQAAAAAAAcGpAMzMzMzOzOUAAAAAAAAAfQKOSOgFNhB9AmpmZmZkZIEAAAAAAAAAfQM3MzMzMzCtAAAAAAAAASkBmZmZmZrZTQAn5oGezah9AVFInoIm4S0C4rwPnjAghQD0s1JrmHR9AdnEbDeCtP0DD0ytlGSIdQGKh1jTvuGtAMzMzMzOzMEAAAAAAAAA6QAAAAAAAgC9AAAAAAADgTECamZmZmRkwQAAAAAAAQDdADwu1pnl3OUCamZmZmRkgQDMzMzMzc0dAmpmZmZnxYkA8vVKWIcpUQK62Yn/ZXShAYqHWNO+4a0AJ+aBns2ofQM3MzMzMjCtAkKD4MebuHkAAAAAAAAArQGZmZmZmBjZA8fRKWYa4O0DNzMzMzOwhQAAAAAAAgENAAAAAAABgQkAAAAAAAIBDQDy9UpYhylRAzczMzMyMSkA4+MJkqvBuQAAAAAAAADVAMzMzMzNjUUCamZmZmRkfQJqZmZmZOSBAAAAAAAAAL0AAAAAAAAA6QAAAAAAAAB9A8fRKWYa4O0AAAAAAAAA6QJqZmZmZGR9Ao5I6AU2EH0AAAAAAAHBqQEhQ/BhztytAAAAAAAAAJUCKjuTyH3I7QK62Yn/ZfS5AAAAAAAAAH0DNzMzMzIw6QAAAAAAAACpAMzMzMzObWkDx9EpZhrg7QAAAAAAAAD5AAAAAAAAANUAAAAAAAAA6QLivA+eM6CxAAAAAAADAO0AAAAAAAAAqQAAAAAAAADdArrZif9ldKECamZmZmRkgQGKh1jTvGGFAAAAAAAAAL0AAAAAAAAA6QDMzMzMzUyFAAAAAAAAAH0CutmJ/2X0uQGZmZmZmNjRAzczMzMzMG0Du68A5I8pEQAAAAAAAAB9AzczMzMyMOkBIUPwYczcsQAAAAAAAAB9A0ZFc/kP0YECQoPgx5u4eQM3MzMzMampAAAAAAACAQ0AAAAAAAGBCQOviNhrAey9Avw6cM6ICgECamZmZmZkeQAn5oGez6hxAAAAAAAAANUASFD/G3K1PQDMzMzMzkzRAIR/0bFa9SUCamZmZmRkvQFRSJ6CJgEJAAAAAAAAANUBUUiegibhLQDMzMzMzY1FAAAAAAADYQ0AzMzMzM7NNQAAAAAAA0GBACYofY+52VEAAAAAAAGZwQDMzMzMzUyFAAAAAAAAALUCamZmZmRkwQAAAAAAAQFBAMzMzMzOzQ0AAAAAAAABOQM3MzMzMzFNAL26jAbybZEAzMzMzM7NNQMPTK2UZ4h5AzczMzMyMK0AAAAAAAAAfQAAAAAAAgFZAmpmZmZkZH0CamZmZmTlbQA==",
          "dtype": "f8"
         },
         "y0": " ",
         "yaxis": "y"
        }
       ],
       "layout": {
        "boxmode": "group",
        "legend": {
         "title": {
          "text": "Survived"
         },
         "tracegroupgap": 0
        },
        "template": {
         "data": {
          "bar": [
           {
            "error_x": {
             "color": "#2a3f5f"
            },
            "error_y": {
             "color": "#2a3f5f"
            },
            "marker": {
             "line": {
              "color": "#E5ECF6",
              "width": 0.5
             },
             "pattern": {
              "fillmode": "overlay",
              "size": 10,
              "solidity": 0.2
             }
            },
            "type": "bar"
           }
          ],
          "barpolar": [
           {
            "marker": {
             "line": {
              "color": "#E5ECF6",
              "width": 0.5
             },
             "pattern": {
              "fillmode": "overlay",
              "size": 10,
              "solidity": 0.2
             }
            },
            "type": "barpolar"
           }
          ],
          "carpet": [
           {
            "aaxis": {
             "endlinecolor": "#2a3f5f",
             "gridcolor": "white",
             "linecolor": "white",
             "minorgridcolor": "white",
             "startlinecolor": "#2a3f5f"
            },
            "baxis": {
             "endlinecolor": "#2a3f5f",
             "gridcolor": "white",
             "linecolor": "white",
             "minorgridcolor": "white",
             "startlinecolor": "#2a3f5f"
            },
            "type": "carpet"
           }
          ],
          "choropleth": [
           {
            "colorbar": {
             "outlinewidth": 0,
             "ticks": ""
            },
            "type": "choropleth"
           }
          ],
          "contour": [
           {
            "colorbar": {
             "outlinewidth": 0,
             "ticks": ""
            },
            "colorscale": [
             [
              0,
              "#0d0887"
             ],
             [
              0.1111111111111111,
              "#46039f"
             ],
             [
              0.2222222222222222,
              "#7201a8"
             ],
             [
              0.3333333333333333,
              "#9c179e"
             ],
             [
              0.4444444444444444,
              "#bd3786"
             ],
             [
              0.5555555555555556,
              "#d8576b"
             ],
             [
              0.6666666666666666,
              "#ed7953"
             ],
             [
              0.7777777777777778,
              "#fb9f3a"
             ],
             [
              0.8888888888888888,
              "#fdca26"
             ],
             [
              1,
              "#f0f921"
             ]
            ],
            "type": "contour"
           }
          ],
          "contourcarpet": [
           {
            "colorbar": {
             "outlinewidth": 0,
             "ticks": ""
            },
            "type": "contourcarpet"
           }
          ],
          "heatmap": [
           {
            "colorbar": {
             "outlinewidth": 0,
             "ticks": ""
            },
            "colorscale": [
             [
              0,
              "#0d0887"
             ],
             [
              0.1111111111111111,
              "#46039f"
             ],
             [
              0.2222222222222222,
              "#7201a8"
             ],
             [
              0.3333333333333333,
              "#9c179e"
             ],
             [
              0.4444444444444444,
              "#bd3786"
             ],
             [
              0.5555555555555556,
              "#d8576b"
             ],
             [
              0.6666666666666666,
              "#ed7953"
             ],
             [
              0.7777777777777778,
              "#fb9f3a"
             ],
             [
              0.8888888888888888,
              "#fdca26"
             ],
             [
              1,
              "#f0f921"
             ]
            ],
            "type": "heatmap"
           }
          ],
          "histogram": [
           {
            "marker": {
             "pattern": {
              "fillmode": "overlay",
              "size": 10,
              "solidity": 0.2
             }
            },
            "type": "histogram"
           }
          ],
          "histogram2d": [
           {
            "colorbar": {
             "outlinewidth": 0,
             "ticks": ""
            },
            "colorscale": [
             [
              0,
              "#0d0887"
             ],
             [
              0.1111111111111111,
              "#46039f"
             ],
             [
              0.2222222222222222,
              "#7201a8"
             ],
             [
              0.3333333333333333,
              "#9c179e"
             ],
             [
              0.4444444444444444,
              "#bd3786"
             ],
             [
              0.5555555555555556,
              "#d8576b"
             ],
             [
              0.6666666666666666,
              "#ed7953"
             ],
             [
              0.7777777777777778,
              "#fb9f3a"
             ],
             [
              0.8888888888888888,
              "#fdca26"
             ],
             [
              1,
              "#f0f921"
             ]
            ],
            "type": "histogram2d"
           }
          ],
          "histogram2dcontour": [
           {
            "colorbar": {
             "outlinewidth": 0,
             "ticks": ""
            },
            "colorscale": [
             [
              0,
              "#0d0887"
             ],
             [
              0.1111111111111111,
              "#46039f"
             ],
             [
              0.2222222222222222,
              "#7201a8"
             ],
             [
              0.3333333333333333,
              "#9c179e"
             ],
             [
              0.4444444444444444,
              "#bd3786"
             ],
             [
              0.5555555555555556,
              "#d8576b"
             ],
             [
              0.6666666666666666,
              "#ed7953"
             ],
             [
              0.7777777777777778,
              "#fb9f3a"
             ],
             [
              0.8888888888888888,
              "#fdca26"
             ],
             [
              1,
              "#f0f921"
             ]
            ],
            "type": "histogram2dcontour"
           }
          ],
          "mesh3d": [
           {
            "colorbar": {
             "outlinewidth": 0,
             "ticks": ""
            },
            "type": "mesh3d"
           }
          ],
          "parcoords": [
           {
            "line": {
             "colorbar": {
              "outlinewidth": 0,
              "ticks": ""
             }
            },
            "type": "parcoords"
           }
          ],
          "pie": [
           {
            "automargin": true,
            "type": "pie"
           }
          ],
          "scatter": [
           {
            "fillpattern": {
             "fillmode": "overlay",
             "size": 10,
             "solidity": 0.2
            },
            "type": "scatter"
           }
          ],
          "scatter3d": [
           {
            "line": {
             "colorbar": {
              "outlinewidth": 0,
              "ticks": ""
             }
            },
            "marker": {
             "colorbar": {
              "outlinewidth": 0,
              "ticks": ""
             }
            },
            "type": "scatter3d"
           }
          ],
          "scattercarpet": [
           {
            "marker": {
             "colorbar": {
              "outlinewidth": 0,
              "ticks": ""
             }
            },
            "type": "scattercarpet"
           }
          ],
          "scattergeo": [
           {
            "marker": {
             "colorbar": {
              "outlinewidth": 0,
              "ticks": ""
             }
            },
            "type": "scattergeo"
           }
          ],
          "scattergl": [
           {
            "marker": {
             "colorbar": {
              "outlinewidth": 0,
              "ticks": ""
             }
            },
            "type": "scattergl"
           }
          ],
          "scattermap": [
           {
            "marker": {
             "colorbar": {
              "outlinewidth": 0,
              "ticks": ""
             }
            },
            "type": "scattermap"
           }
          ],
          "scattermapbox": [
           {
            "marker": {
             "colorbar": {
              "outlinewidth": 0,
              "ticks": ""
             }
            },
            "type": "scattermapbox"
           }
          ],
          "scatterpolar": [
           {
            "marker": {
             "colorbar": {
              "outlinewidth": 0,
              "ticks": ""
             }
            },
            "type": "scatterpolar"
           }
          ],
          "scatterpolargl": [
           {
            "marker": {
             "colorbar": {
              "outlinewidth": 0,
              "ticks": ""
             }
            },
            "type": "scatterpolargl"
           }
          ],
          "scatterternary": [
           {
            "marker": {
             "colorbar": {
              "outlinewidth": 0,
              "ticks": ""
             }
            },
            "type": "scatterternary"
           }
          ],
          "surface": [
           {
            "colorbar": {
             "outlinewidth": 0,
             "ticks": ""
            },
            "colorscale": [
             [
              0,
              "#0d0887"
             ],
             [
              0.1111111111111111,
              "#46039f"
             ],
             [
              0.2222222222222222,
              "#7201a8"
             ],
             [
              0.3333333333333333,
              "#9c179e"
             ],
             [
              0.4444444444444444,
              "#bd3786"
             ],
             [
              0.5555555555555556,
              "#d8576b"
             ],
             [
              0.6666666666666666,
              "#ed7953"
             ],
             [
              0.7777777777777778,
              "#fb9f3a"
             ],
             [
              0.8888888888888888,
              "#fdca26"
             ],
             [
              1,
              "#f0f921"
             ]
            ],
            "type": "surface"
           }
          ],
          "table": [
           {
            "cells": {
             "fill": {
              "color": "#EBF0F8"
             },
             "line": {
              "color": "white"
             }
            },
            "header": {
             "fill": {
              "color": "#C8D4E3"
             },
             "line": {
              "color": "white"
             }
            },
            "type": "table"
           }
          ]
         },
         "layout": {
          "annotationdefaults": {
           "arrowcolor": "#2a3f5f",
           "arrowhead": 0,
           "arrowwidth": 1
          },
          "autotypenumbers": "strict",
          "coloraxis": {
           "colorbar": {
            "outlinewidth": 0,
            "ticks": ""
           }
          },
          "colorscale": {
           "diverging": [
            [
             0,
             "#8e0152"
            ],
            [
             0.1,
             "#c51b7d"
            ],
            [
             0.2,
             "#de77ae"
            ],
            [
             0.3,
             "#f1b6da"
            ],
            [
             0.4,
             "#fde0ef"
            ],
            [
             0.5,
             "#f7f7f7"
            ],
            [
             0.6,
             "#e6f5d0"
            ],
            [
             0.7,
             "#b8e186"
            ],
            [
             0.8,
             "#7fbc41"
            ],
            [
             0.9,
             "#4d9221"
            ],
            [
             1,
             "#276419"
            ]
           ],
           "sequential": [
            [
             0,
             "#0d0887"
            ],
            [
             0.1111111111111111,
             "#46039f"
            ],
            [
             0.2222222222222222,
             "#7201a8"
            ],
            [
             0.3333333333333333,
             "#9c179e"
            ],
            [
             0.4444444444444444,
             "#bd3786"
            ],
            [
             0.5555555555555556,
             "#d8576b"
            ],
            [
             0.6666666666666666,
             "#ed7953"
            ],
            [
             0.7777777777777778,
             "#fb9f3a"
            ],
            [
             0.8888888888888888,
             "#fdca26"
            ],
            [
             1,
             "#f0f921"
            ]
           ],
           "sequentialminus": [
            [
             0,
             "#0d0887"
            ],
            [
             0.1111111111111111,
             "#46039f"
            ],
            [
             0.2222222222222222,
             "#7201a8"
            ],
            [
             0.3333333333333333,
             "#9c179e"
            ],
            [
             0.4444444444444444,
             "#bd3786"
            ],
            [
             0.5555555555555556,
             "#d8576b"
            ],
            [
             0.6666666666666666,
             "#ed7953"
            ],
            [
             0.7777777777777778,
             "#fb9f3a"
            ],
            [
             0.8888888888888888,
             "#fdca26"
            ],
            [
             1,
             "#f0f921"
            ]
           ]
          },
          "colorway": [
           "#636efa",
           "#EF553B",
           "#00cc96",
           "#ab63fa",
           "#FFA15A",
           "#19d3f3",
           "#FF6692",
           "#B6E880",
           "#FF97FF",
           "#FECB52"
          ],
          "font": {
           "color": "#2a3f5f"
          },
          "geo": {
           "bgcolor": "white",
           "lakecolor": "white",
           "landcolor": "#E5ECF6",
           "showlakes": true,
           "showland": true,
           "subunitcolor": "white"
          },
          "hoverlabel": {
           "align": "left"
          },
          "hovermode": "closest",
          "mapbox": {
           "style": "light"
          },
          "paper_bgcolor": "white",
          "plot_bgcolor": "#E5ECF6",
          "polar": {
           "angularaxis": {
            "gridcolor": "white",
            "linecolor": "white",
            "ticks": ""
           },
           "bgcolor": "#E5ECF6",
           "radialaxis": {
            "gridcolor": "white",
            "linecolor": "white",
            "ticks": ""
           }
          },
          "scene": {
           "xaxis": {
            "backgroundcolor": "#E5ECF6",
            "gridcolor": "white",
            "gridwidth": 2,
            "linecolor": "white",
            "showbackground": true,
            "ticks": "",
            "zerolinecolor": "white"
           },
           "yaxis": {
            "backgroundcolor": "#E5ECF6",
            "gridcolor": "white",
            "gridwidth": 2,
            "linecolor": "white",
            "showbackground": true,
            "ticks": "",
            "zerolinecolor": "white"
           },
           "zaxis": {
            "backgroundcolor": "#E5ECF6",
            "gridcolor": "white",
            "gridwidth": 2,
            "linecolor": "white",
            "showbackground": true,
            "ticks": "",
            "zerolinecolor": "white"
           }
          },
          "shapedefaults": {
           "line": {
            "color": "#2a3f5f"
           }
          },
          "ternary": {
           "aaxis": {
            "gridcolor": "white",
            "linecolor": "white",
            "ticks": ""
           },
           "baxis": {
            "gridcolor": "white",
            "linecolor": "white",
            "ticks": ""
           },
           "bgcolor": "#E5ECF6",
           "caxis": {
            "gridcolor": "white",
            "linecolor": "white",
            "ticks": ""
           }
          },
          "title": {
           "x": 0.05
          },
          "xaxis": {
           "automargin": true,
           "gridcolor": "white",
           "linecolor": "white",
           "ticks": "",
           "title": {
            "standoff": 15
           },
           "zerolinecolor": "white",
           "zerolinewidth": 2
          },
          "yaxis": {
           "automargin": true,
           "gridcolor": "white",
           "linecolor": "white",
           "ticks": "",
           "title": {
            "standoff": 15
           },
           "zerolinecolor": "white",
           "zerolinewidth": 2
          }
         }
        },
        "title": {
         "text": "Fare Distribution by Class and Survival"
        },
        "xaxis": {
         "anchor": "y",
         "domain": [
          0,
          1
         ],
         "title": {
          "text": "Pclass"
         }
        },
        "yaxis": {
         "anchor": "x",
         "domain": [
          0,
          1
         ],
         "title": {
          "text": "Fare"
         }
        }
       }
      },
      "text/html": [
       "<div>            <script src=\"https://cdnjs.cloudflare.com/ajax/libs/mathjax/2.7.5/MathJax.js?config=TeX-AMS-MML_SVG\"></script><script type=\"text/javascript\">if (window.MathJax && window.MathJax.Hub && window.MathJax.Hub.Config) {window.MathJax.Hub.Config({SVG: {font: \"STIX-Web\"}});}</script>                <script type=\"text/javascript\">window.PlotlyConfig = {MathJaxConfig: 'local'};</script>\n",
       "        <script charset=\"utf-8\" src=\"https://cdn.plot.ly/plotly-3.0.0.min.js\"></script>                <div id=\"5794b5b6-b717-476c-9efb-8ea9f537e608\" class=\"plotly-graph-div\" style=\"height:525px; width:100%;\"></div>            <script type=\"text/javascript\">                window.PLOTLYENV=window.PLOTLYENV || {};                                if (document.getElementById(\"5794b5b6-b717-476c-9efb-8ea9f537e608\")) {                    Plotly.newPlot(                        \"5794b5b6-b717-476c-9efb-8ea9f537e608\",                        [{\"alignmentgroup\":\"True\",\"hovertemplate\":\"Survived=0\\u003cbr\\u003ePclass=%{x}\\u003cbr\\u003eFare=%{y}\\u003cextra\\u003e\\u003c\\u002fextra\\u003e\",\"legendgroup\":\"0\",\"marker\":{\"color\":\"#636efa\"},\"name\":\"0\",\"notched\":false,\"offsetgroup\":\"0\",\"orientation\":\"v\",\"showlegend\":true,\"x\":{\"dtype\":\"i1\",\"bdata\":\"AwIDAwIDAwECAgMBAwEDAwEDAgIBAwMDAwEDAwEDAQICAwMDAwMCAwEBAQMBAQMCAwEBAwIDAgMDAQMDAwIDAwMDAwMCAgMDAQMDAwMCAwMBAwMDAwIDAQIBAwEDAQIDAwMDAQMDAgEDAwMDAwMBAgEDAgMCAgEDAgIDAQIDAQIBAgMDAwIBAQMDAwMDAgIDAwEDAQMBAwMBAgMBAwMDAwMDAwMCAwEDAwEDAwICAgIDAwMBAwMBAwEDAwMBAwMCAgMBAwEDAwMBAgMCAwMCAQMBAgIBAwMBAgMCAwIDAwMCAgICAgEDAwMDAwICAQICAQMDAwIDAgMDAQMCAwMDAwIBAQICAQMDAwM=\"},\"x0\":\" \",\"xaxis\":\"x\",\"y\":{\"dtype\":\"f8\",\"bdata\":\"cF8HzhlRH0AAAAAAAGAjQDMzMzMzUyFAMzMzMzNzIkAAAAAAAAA9QGZmZmZmJjhA9wZfmEyVH0AAAAAAAAA6QAAAAAAAADpAMzMzMzOzKEBmZmZmZuYcQDMzMzMzs01AIEHxY8xdCUBUUiegibBOQAAAAAAAAC1AZmZmZmbmHEAAAAAAAIA+QHZxGw3grTVAAAAAAAAAOkAAAAAAAIA\\u002fQAAAAAAA4ExACfmgZ7PqHEAAAAAAAAAjQKyt2F92P0xAhXzQs1nVKkDNzMzMzIw6QGZmZmZmZh9AMzMzMzOzH0AzMzMzM7M9QAAAAAAAAB9AAAAAAAAATkDi6ZWyDBEuQLivA+eMKC9AAAAAAAAgPUD3Bl+YTJUfQJqZmZmZmR5AmpmZmZkZMED3Bl+YTJUfQAAAAAAAACtAAAAAAAAAH0AAAAAAAGZwQDMzMzMzM0VAmpmZmZmJPED3Bl+YTJUfQPH0SlmGuDtAAAAAAABwakCamZmZmRkgQAAAAAAAACpArrZif9l9LkBiodY077hrQAAAAAAAADpA9wZfmEyVH0B7gy9MpmolQLivA+eM6CxAAAAAAAAAN0CamZmZmRkfQJqZmZmZGSBAAAAAAAAAOkCQoPgx5i4fQDMzMzMzsx9AmpmZmZkZIEAAAAAAAAA6QAAAAAAAAB9AmpmZmZkZH0BmZmZmZoY2QCo6kst\\u002fSB9AAAAAAAAAH0DNzMzMzGwhQAAAAAAAACpASFD8GHMXLkC4rwPnjOgsQAAAAAAAwBlAXdxGA3jPUkAAAAAAAAAfQAAAAAAAAB1AAAAAAAAAH0CQoPgx5i4fQAAAAAAAACpAmpmZmZkZIECamZmZmRkgQAAAAAAAgDxAAAAAAADAGUD3Bl+YTJUfQAn5oGezah9AZmZmZmbmHEAAAAAAAAAqQDMzMzMzc0dAAAAAAABmcEAAAAAAAAA6QM3MzMzMjDpAAAAAAAAAMkBmZmZmZu5JQJqZmZmZGSBAzczMzMyMOkAAAAAAAAA6QPcGX5hMlR9A9wZfmEyVH0AzMzMzM2M\\u002fQDMzMzMzMx5AzczMzMyMOkCutmJ\\u002f2X0uQAAAAAAAABxAAAAAAAAAKkCsrdhfdj9JQAAAAAAAMEFAMzMzMzMzHkBmZmZmZuYcQM3MzMzMzCtACfmgZ7PqHEAzMzMzM2M\\u002fQFRSJ6CJuEtAAAAAAAAAKkA8vVKWIcpUQAAAAAAAAB9AAAAAAAAAMECamZmZmRkgQAAAAAAAACpAAAAAAAAAOkAAAAAAAAA6QAAAAAAAAC1AMzMzMzOzKEAAAAAAAEBAQAn5oGezah9AAAAAAADQYEAAAAAAAAAlQM3MzMzMzCxAzczMzMxwbEAAAAAAAAAlQHZxGw3gvTlAAAAAAAAAJUD3Bl+YTJUfQGZmZmZmhjZAMzMzMzMzHEAAAAAAAGBSQAAAAAAAQEVAL26jAbybZECamZmZmRkgQJqZmZmZGSBAkKD4MeYuH0CQoPgx5i4fQDMzMzMzMy5AAAAAAAAAKkAAAAAAAEBQQF1txf6y+xlAo5I6AU2EH0A8vVKWIdJRQAn5oGezah9AAAAAAADQUkBmZmZmZuYcQAAAAAAA0GBAzczMzMyMH0AzMzMzM3M3QGZmZmZm7klAAAAAAABAQEAzMzMzM7MfQGKh1jTvGGFAZmZmZmamIkAAAAAAAAAjQDMzMzMzMx5AAAAAAAAAH0CamZmZmRkgQJqZmZmZGR9AZmZmZmZmMUAJ+aBns2ofQJqZmZmZeSlA9wZfmEyVH0AAAAAAAAAAADMzMzMzMx5AMzMzMzNTIUBd3EYDeM9SQAAAAAAAAB9AZmZmZmbmHEAAAAAAAAAlQAAAAAAAADpAAAAAAAAANUAAAAAAAAAlQM3MzMzMjCtAAAAAAAAAHUAAAAAAAAAdQPd14JwRkVRACfmgZ7PqHECamZmZmRkgQM3MzMzMzENACfmgZ7PqHEAJih9j7nZUQAAAAAAAACNA9wZfmEyVH0B2cRsN4K01QAAAAAAAwEZACfmgZ7NqH0CamZmZmRkfQEhQ\\u002fBhzFy5AAAAAAAAANUAzMzMzM1MhQJqZmZmZ8WJAMzMzMzOzIkAAAAAAAGBXQDMzMzMzUyFAZmZmZmbmHEDNzMzMzEweQDj4wmSqUGJAAAAAAAAAJUAJ+aBns2ofQAAAAAAAgD9AmpmZmZkZH0AJ+aBns+ocQAAAAAAAACpAzczMzMyMOkAzMzMzMzMcQM3MzMzMzFNAAAAAAAAAOkAAAAAAAAAqQDMzMzMzsz1AZmZmZmbmHED3Bl+YTJUfQAAAAAAAADpAAAAAAAAAKkAJ+aBns+ocQAAAAAAAgD9ACfmgZ7PqHEAAAAAAAAAlQHBfB84ZUR5AMzMzMzNjUUAAAAAAAAAtQAAAAAAAACpAAAAAAAAAK0AAAAAAAAAlQAAAAAAAYFJAAAAAAABAUEAAAAAAAAA6QKOSOgFNhB9AAAAAAAAAH0AzMzMzM2NRQDMzMzMzUyFAe4MvTKbqLEBIUPwYc7crQAAAAAAAACdAAAAAAAAAAAAAAAAAAAAqQAAAAAAAACdAAAAAAAAASUAzMzMzM2M\\u002fQAAAAAAAAB9Ao5I6AU2EH0AAAAAAAMApQJqZmZmZGR9AAAAAAAAAKkAAAAAAAAAfQDMzMzMzEzVAAAAAAABgV0AAAAAAAEA0QAAAAAAAACVAZmZmZmYGNkAAAAAAAAAdQJqZmZmZGR9AkKD4MebuHkAAAAAAAAA1QM3MzMzMjEdA8fRKWYa4O0CamZmZmbkrQAAAAAAAACVAAAAAAABwakCamZmZmRkgQAAAAAAAAB1AmpmZmZkZIEAkKH6MuVs2QA==\"},\"y0\":\" \",\"yaxis\":\"y\",\"type\":\"box\"},{\"alignmentgroup\":\"True\",\"hovertemplate\":\"Survived=1\\u003cbr\\u003ePclass=%{x}\\u003cbr\\u003eFare=%{y}\\u003cextra\\u003e\\u003c\\u002fextra\\u003e\",\"legendgroup\":\"1\",\"marker\":{\"color\":\"#EF553B\"},\"name\":\"1\",\"notched\":false,\"offsetgroup\":\"1\",\"orientation\":\"v\",\"showlegend\":true,\"x\":{\"dtype\":\"i1\",\"bdata\":\"AwMDAwEBAgMDAQEBAwMDAwIBAQMCAQEDAgMBAwMBAQMDAwMDAQEDAQMDAQMBAwICAQMDAwMDAQEDAQMDAwIDAQMCAgIBAQECAwMDAwIDAQIDAwECAgEDAwECAQECAgIDAgICAwMBAwIDAwMDAwIDAQMDAQMBAgIDAQMDAgEDAQMCAgEDAwEBAQEDAwMCAQEBAQEDAwMBAwE=\"},\"x0\":\" \",\"xaxis\":\"x\",\"y\":{\"dtype\":\"f8\",\"bdata\":\"AAAAAAAAHEAzMzMzM5MoQKOSOgFNhB5ACfmgZ7PqHED3deCcEZFUQGZmZmZmlk5A8fRKWYa4O0AzMzMzM7MfQGZmZmZm5hxAV1uxv+yuP0AAAAAAAGZwQCEf9GxW\\u002fU5AMzMzMzOTNEAzMzMzM3M3QJqZmZmZGSBAMzMzMzNTIUAAAAAAAAAqQLu4jQbwRkpAkQ96NqsSU0DNzMzMzMwvQAAAAAAAADdAAAAAAABwcEAAAAAAAGZwQGZmZmZm5h5AAAAAAAAANUCjkjoBTYQfQAAAAAAAcHBAAAAAAAAAH0AzMzMzM7MfQAAAAAAAcGpAMzMzMzOzOUAAAAAAAAAfQKOSOgFNhB9AmpmZmZkZIEAAAAAAAAAfQM3MzMzMzCtAAAAAAAAASkBmZmZmZrZTQAn5oGezah9AVFInoIm4S0C4rwPnjAghQD0s1JrmHR9AdnEbDeCtP0DD0ytlGSIdQGKh1jTvuGtAMzMzMzOzMEAAAAAAAAA6QAAAAAAAgC9AAAAAAADgTECamZmZmRkwQAAAAAAAQDdADwu1pnl3OUCamZmZmRkgQDMzMzMzc0dAmpmZmZnxYkA8vVKWIcpUQK62Yn\\u002fZXShAYqHWNO+4a0AJ+aBns2ofQM3MzMzMjCtAkKD4MebuHkAAAAAAAAArQGZmZmZmBjZA8fRKWYa4O0DNzMzMzOwhQAAAAAAAgENAAAAAAABgQkAAAAAAAIBDQDy9UpYhylRAzczMzMyMSkA4+MJkqvBuQAAAAAAAADVAMzMzMzNjUUCamZmZmRkfQJqZmZmZOSBAAAAAAAAAL0AAAAAAAAA6QAAAAAAAAB9A8fRKWYa4O0AAAAAAAAA6QJqZmZmZGR9Ao5I6AU2EH0AAAAAAAHBqQEhQ\\u002fBhztytAAAAAAAAAJUCKjuTyH3I7QK62Yn\\u002fZfS5AAAAAAAAAH0DNzMzMzIw6QAAAAAAAACpAMzMzMzObWkDx9EpZhrg7QAAAAAAAAD5AAAAAAAAANUAAAAAAAAA6QLivA+eM6CxAAAAAAADAO0AAAAAAAAAqQAAAAAAAADdArrZif9ldKECamZmZmRkgQGKh1jTvGGFAAAAAAAAAL0AAAAAAAAA6QDMzMzMzUyFAAAAAAAAAH0CutmJ\\u002f2X0uQGZmZmZmNjRAzczMzMzMG0Du68A5I8pEQAAAAAAAAB9AzczMzMyMOkBIUPwYczcsQAAAAAAAAB9A0ZFc\\u002fkP0YECQoPgx5u4eQM3MzMzMampAAAAAAACAQ0AAAAAAAGBCQOviNhrAey9Avw6cM6ICgECamZmZmZkeQAn5oGez6hxAAAAAAAAANUASFD\\u002fG3K1PQDMzMzMzkzRAIR\\u002f0bFa9SUCamZmZmRkvQFRSJ6CJgEJAAAAAAAAANUBUUiegibhLQDMzMzMzY1FAAAAAAADYQ0AzMzMzM7NNQAAAAAAA0GBACYofY+52VEAAAAAAAGZwQDMzMzMzUyFAAAAAAAAALUCamZmZmRkwQAAAAAAAQFBAMzMzMzOzQ0AAAAAAAABOQM3MzMzMzFNAL26jAbybZEAzMzMzM7NNQMPTK2UZ4h5AzczMzMyMK0AAAAAAAAAfQAAAAAAAgFZAmpmZmZkZH0CamZmZmTlbQA==\"},\"y0\":\" \",\"yaxis\":\"y\",\"type\":\"box\"}],                        {\"template\":{\"data\":{\"histogram2dcontour\":[{\"type\":\"histogram2dcontour\",\"colorbar\":{\"outlinewidth\":0,\"ticks\":\"\"},\"colorscale\":[[0.0,\"#0d0887\"],[0.1111111111111111,\"#46039f\"],[0.2222222222222222,\"#7201a8\"],[0.3333333333333333,\"#9c179e\"],[0.4444444444444444,\"#bd3786\"],[0.5555555555555556,\"#d8576b\"],[0.6666666666666666,\"#ed7953\"],[0.7777777777777778,\"#fb9f3a\"],[0.8888888888888888,\"#fdca26\"],[1.0,\"#f0f921\"]]}],\"choropleth\":[{\"type\":\"choropleth\",\"colorbar\":{\"outlinewidth\":0,\"ticks\":\"\"}}],\"histogram2d\":[{\"type\":\"histogram2d\",\"colorbar\":{\"outlinewidth\":0,\"ticks\":\"\"},\"colorscale\":[[0.0,\"#0d0887\"],[0.1111111111111111,\"#46039f\"],[0.2222222222222222,\"#7201a8\"],[0.3333333333333333,\"#9c179e\"],[0.4444444444444444,\"#bd3786\"],[0.5555555555555556,\"#d8576b\"],[0.6666666666666666,\"#ed7953\"],[0.7777777777777778,\"#fb9f3a\"],[0.8888888888888888,\"#fdca26\"],[1.0,\"#f0f921\"]]}],\"heatmap\":[{\"type\":\"heatmap\",\"colorbar\":{\"outlinewidth\":0,\"ticks\":\"\"},\"colorscale\":[[0.0,\"#0d0887\"],[0.1111111111111111,\"#46039f\"],[0.2222222222222222,\"#7201a8\"],[0.3333333333333333,\"#9c179e\"],[0.4444444444444444,\"#bd3786\"],[0.5555555555555556,\"#d8576b\"],[0.6666666666666666,\"#ed7953\"],[0.7777777777777778,\"#fb9f3a\"],[0.8888888888888888,\"#fdca26\"],[1.0,\"#f0f921\"]]}],\"contourcarpet\":[{\"type\":\"contourcarpet\",\"colorbar\":{\"outlinewidth\":0,\"ticks\":\"\"}}],\"contour\":[{\"type\":\"contour\",\"colorbar\":{\"outlinewidth\":0,\"ticks\":\"\"},\"colorscale\":[[0.0,\"#0d0887\"],[0.1111111111111111,\"#46039f\"],[0.2222222222222222,\"#7201a8\"],[0.3333333333333333,\"#9c179e\"],[0.4444444444444444,\"#bd3786\"],[0.5555555555555556,\"#d8576b\"],[0.6666666666666666,\"#ed7953\"],[0.7777777777777778,\"#fb9f3a\"],[0.8888888888888888,\"#fdca26\"],[1.0,\"#f0f921\"]]}],\"surface\":[{\"type\":\"surface\",\"colorbar\":{\"outlinewidth\":0,\"ticks\":\"\"},\"colorscale\":[[0.0,\"#0d0887\"],[0.1111111111111111,\"#46039f\"],[0.2222222222222222,\"#7201a8\"],[0.3333333333333333,\"#9c179e\"],[0.4444444444444444,\"#bd3786\"],[0.5555555555555556,\"#d8576b\"],[0.6666666666666666,\"#ed7953\"],[0.7777777777777778,\"#fb9f3a\"],[0.8888888888888888,\"#fdca26\"],[1.0,\"#f0f921\"]]}],\"mesh3d\":[{\"type\":\"mesh3d\",\"colorbar\":{\"outlinewidth\":0,\"ticks\":\"\"}}],\"scatter\":[{\"fillpattern\":{\"fillmode\":\"overlay\",\"size\":10,\"solidity\":0.2},\"type\":\"scatter\"}],\"parcoords\":[{\"type\":\"parcoords\",\"line\":{\"colorbar\":{\"outlinewidth\":0,\"ticks\":\"\"}}}],\"scatterpolargl\":[{\"type\":\"scatterpolargl\",\"marker\":{\"colorbar\":{\"outlinewidth\":0,\"ticks\":\"\"}}}],\"bar\":[{\"error_x\":{\"color\":\"#2a3f5f\"},\"error_y\":{\"color\":\"#2a3f5f\"},\"marker\":{\"line\":{\"color\":\"#E5ECF6\",\"width\":0.5},\"pattern\":{\"fillmode\":\"overlay\",\"size\":10,\"solidity\":0.2}},\"type\":\"bar\"}],\"scattergeo\":[{\"type\":\"scattergeo\",\"marker\":{\"colorbar\":{\"outlinewidth\":0,\"ticks\":\"\"}}}],\"scatterpolar\":[{\"type\":\"scatterpolar\",\"marker\":{\"colorbar\":{\"outlinewidth\":0,\"ticks\":\"\"}}}],\"histogram\":[{\"marker\":{\"pattern\":{\"fillmode\":\"overlay\",\"size\":10,\"solidity\":0.2}},\"type\":\"histogram\"}],\"scattergl\":[{\"type\":\"scattergl\",\"marker\":{\"colorbar\":{\"outlinewidth\":0,\"ticks\":\"\"}}}],\"scatter3d\":[{\"type\":\"scatter3d\",\"line\":{\"colorbar\":{\"outlinewidth\":0,\"ticks\":\"\"}},\"marker\":{\"colorbar\":{\"outlinewidth\":0,\"ticks\":\"\"}}}],\"scattermap\":[{\"type\":\"scattermap\",\"marker\":{\"colorbar\":{\"outlinewidth\":0,\"ticks\":\"\"}}}],\"scattermapbox\":[{\"type\":\"scattermapbox\",\"marker\":{\"colorbar\":{\"outlinewidth\":0,\"ticks\":\"\"}}}],\"scatterternary\":[{\"type\":\"scatterternary\",\"marker\":{\"colorbar\":{\"outlinewidth\":0,\"ticks\":\"\"}}}],\"scattercarpet\":[{\"type\":\"scattercarpet\",\"marker\":{\"colorbar\":{\"outlinewidth\":0,\"ticks\":\"\"}}}],\"carpet\":[{\"aaxis\":{\"endlinecolor\":\"#2a3f5f\",\"gridcolor\":\"white\",\"linecolor\":\"white\",\"minorgridcolor\":\"white\",\"startlinecolor\":\"#2a3f5f\"},\"baxis\":{\"endlinecolor\":\"#2a3f5f\",\"gridcolor\":\"white\",\"linecolor\":\"white\",\"minorgridcolor\":\"white\",\"startlinecolor\":\"#2a3f5f\"},\"type\":\"carpet\"}],\"table\":[{\"cells\":{\"fill\":{\"color\":\"#EBF0F8\"},\"line\":{\"color\":\"white\"}},\"header\":{\"fill\":{\"color\":\"#C8D4E3\"},\"line\":{\"color\":\"white\"}},\"type\":\"table\"}],\"barpolar\":[{\"marker\":{\"line\":{\"color\":\"#E5ECF6\",\"width\":0.5},\"pattern\":{\"fillmode\":\"overlay\",\"size\":10,\"solidity\":0.2}},\"type\":\"barpolar\"}],\"pie\":[{\"automargin\":true,\"type\":\"pie\"}]},\"layout\":{\"autotypenumbers\":\"strict\",\"colorway\":[\"#636efa\",\"#EF553B\",\"#00cc96\",\"#ab63fa\",\"#FFA15A\",\"#19d3f3\",\"#FF6692\",\"#B6E880\",\"#FF97FF\",\"#FECB52\"],\"font\":{\"color\":\"#2a3f5f\"},\"hovermode\":\"closest\",\"hoverlabel\":{\"align\":\"left\"},\"paper_bgcolor\":\"white\",\"plot_bgcolor\":\"#E5ECF6\",\"polar\":{\"bgcolor\":\"#E5ECF6\",\"angularaxis\":{\"gridcolor\":\"white\",\"linecolor\":\"white\",\"ticks\":\"\"},\"radialaxis\":{\"gridcolor\":\"white\",\"linecolor\":\"white\",\"ticks\":\"\"}},\"ternary\":{\"bgcolor\":\"#E5ECF6\",\"aaxis\":{\"gridcolor\":\"white\",\"linecolor\":\"white\",\"ticks\":\"\"},\"baxis\":{\"gridcolor\":\"white\",\"linecolor\":\"white\",\"ticks\":\"\"},\"caxis\":{\"gridcolor\":\"white\",\"linecolor\":\"white\",\"ticks\":\"\"}},\"coloraxis\":{\"colorbar\":{\"outlinewidth\":0,\"ticks\":\"\"}},\"colorscale\":{\"sequential\":[[0.0,\"#0d0887\"],[0.1111111111111111,\"#46039f\"],[0.2222222222222222,\"#7201a8\"],[0.3333333333333333,\"#9c179e\"],[0.4444444444444444,\"#bd3786\"],[0.5555555555555556,\"#d8576b\"],[0.6666666666666666,\"#ed7953\"],[0.7777777777777778,\"#fb9f3a\"],[0.8888888888888888,\"#fdca26\"],[1.0,\"#f0f921\"]],\"sequentialminus\":[[0.0,\"#0d0887\"],[0.1111111111111111,\"#46039f\"],[0.2222222222222222,\"#7201a8\"],[0.3333333333333333,\"#9c179e\"],[0.4444444444444444,\"#bd3786\"],[0.5555555555555556,\"#d8576b\"],[0.6666666666666666,\"#ed7953\"],[0.7777777777777778,\"#fb9f3a\"],[0.8888888888888888,\"#fdca26\"],[1.0,\"#f0f921\"]],\"diverging\":[[0,\"#8e0152\"],[0.1,\"#c51b7d\"],[0.2,\"#de77ae\"],[0.3,\"#f1b6da\"],[0.4,\"#fde0ef\"],[0.5,\"#f7f7f7\"],[0.6,\"#e6f5d0\"],[0.7,\"#b8e186\"],[0.8,\"#7fbc41\"],[0.9,\"#4d9221\"],[1,\"#276419\"]]},\"xaxis\":{\"gridcolor\":\"white\",\"linecolor\":\"white\",\"ticks\":\"\",\"title\":{\"standoff\":15},\"zerolinecolor\":\"white\",\"automargin\":true,\"zerolinewidth\":2},\"yaxis\":{\"gridcolor\":\"white\",\"linecolor\":\"white\",\"ticks\":\"\",\"title\":{\"standoff\":15},\"zerolinecolor\":\"white\",\"automargin\":true,\"zerolinewidth\":2},\"scene\":{\"xaxis\":{\"backgroundcolor\":\"#E5ECF6\",\"gridcolor\":\"white\",\"linecolor\":\"white\",\"showbackground\":true,\"ticks\":\"\",\"zerolinecolor\":\"white\",\"gridwidth\":2},\"yaxis\":{\"backgroundcolor\":\"#E5ECF6\",\"gridcolor\":\"white\",\"linecolor\":\"white\",\"showbackground\":true,\"ticks\":\"\",\"zerolinecolor\":\"white\",\"gridwidth\":2},\"zaxis\":{\"backgroundcolor\":\"#E5ECF6\",\"gridcolor\":\"white\",\"linecolor\":\"white\",\"showbackground\":true,\"ticks\":\"\",\"zerolinecolor\":\"white\",\"gridwidth\":2}},\"shapedefaults\":{\"line\":{\"color\":\"#2a3f5f\"}},\"annotationdefaults\":{\"arrowcolor\":\"#2a3f5f\",\"arrowhead\":0,\"arrowwidth\":1},\"geo\":{\"bgcolor\":\"white\",\"landcolor\":\"#E5ECF6\",\"subunitcolor\":\"white\",\"showland\":true,\"showlakes\":true,\"lakecolor\":\"white\"},\"title\":{\"x\":0.05},\"mapbox\":{\"style\":\"light\"}}},\"xaxis\":{\"anchor\":\"y\",\"domain\":[0.0,1.0],\"title\":{\"text\":\"Pclass\"}},\"yaxis\":{\"anchor\":\"x\",\"domain\":[0.0,1.0],\"title\":{\"text\":\"Fare\"}},\"legend\":{\"title\":{\"text\":\"Survived\"},\"tracegroupgap\":0},\"title\":{\"text\":\"Fare Distribution by Class and Survival\"},\"boxmode\":\"group\"},                        {\"responsive\": true}                    ).then(function(){\n",
       "                            \n",
       "var gd = document.getElementById('5794b5b6-b717-476c-9efb-8ea9f537e608');\n",
       "var x = new MutationObserver(function (mutations, observer) {{\n",
       "        var display = window.getComputedStyle(gd).display;\n",
       "        if (!display || display === 'none') {{\n",
       "            console.log([gd, 'removed!']);\n",
       "            Plotly.purge(gd);\n",
       "            observer.disconnect();\n",
       "        }}\n",
       "}});\n",
       "\n",
       "// Listen for the removal of the full notebook cells\n",
       "var notebookContainer = gd.closest('#notebook-container');\n",
       "if (notebookContainer) {{\n",
       "    x.observe(notebookContainer, {childList: true});\n",
       "}}\n",
       "\n",
       "// Listen for the clearing of the current output cell\n",
       "var outputEl = gd.closest('.output');\n",
       "if (outputEl) {{\n",
       "    x.observe(outputEl, {childList: true});\n",
       "}}\n",
       "\n",
       "                        })                };            </script>        </div>"
      ]
     },
     "metadata": {},
     "output_type": "display_data"
    }
   ],
   "source": [
    "# Interactive survival chart by age and class\n",
    "fig = px.scatter(df, x='Age', y='Fare', color='Survived', \n",
    "                 facet_col='Pclass', hover_data=['Sex_male'],\n",
    "                 title='Survival by Age, Fare and Class')\n",
    "fig.show()\n",
    "\n",
    "# Interactive box plot of fares by class and survival\n",
    "fig = px.box(df, x='Pclass', y='Fare', color='Survived',\n",
    "             title='Fare Distribution by Class and Survival')\n",
    "fig.show()"
   ]
  },
  {
   "cell_type": "code",
   "execution_count": 27,
   "id": "3d4693b8-6a46-4433-a5f1-18c58c5c32b5",
   "metadata": {},
   "outputs": [
    {
     "name": "stdout",
     "output_type": "stream",
     "text": [
      "Number of outliers in Fare: 55\n"
     ]
    }
   ],
   "source": [
    "# Identify outliers in Fare\n",
    "Q1 = df['Fare'].quantile(0.25)\n",
    "Q3 = df['Fare'].quantile(0.75)\n",
    "IQR = Q3 - Q1\n",
    "\n",
    "outliers = df[(df['Fare'] < (Q1 - 1.5 * IQR)) | (df['Fare'] > (Q3 + 1.5 * IQR))]\n",
    "print(f\"Number of outliers in Fare: {len(outliers)}\")\n",
    "\n",
    "# Option: Apply log transformation to Fare\n",
    "df['Fare_log'] = np.log1p(df['Fare'])"
   ]
  }
 ],
 "metadata": {
  "kernelspec": {
   "display_name": "Python 3 (ipykernel)",
   "language": "python",
   "name": "python3"
  },
  "language_info": {
   "codemirror_mode": {
    "name": "ipython",
    "version": 3
   },
   "file_extension": ".py",
   "mimetype": "text/x-python",
   "name": "python",
   "nbconvert_exporter": "python",
   "pygments_lexer": "ipython3",
   "version": "3.12.2"
  }
 },
 "nbformat": 4,
 "nbformat_minor": 5
}
